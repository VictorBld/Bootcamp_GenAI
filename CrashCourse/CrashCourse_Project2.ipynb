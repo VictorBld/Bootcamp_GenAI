{
  "nbformat": 4,
  "nbformat_minor": 0,
  "metadata": {
    "colab": {
      "provenance": []
    },
    "kernelspec": {
      "name": "python3",
      "display_name": "Python 3"
    },
    "language_info": {
      "name": "python"
    }
  },
  "cells": [
    {
      "cell_type": "code",
      "execution_count": null,
      "metadata": {
        "colab": {
          "base_uri": "https://localhost:8080/"
        },
        "id": "XWLuT4IdnnFj",
        "outputId": "58d6cf8b-4ba8-4271-e0b7-0cf43d1e08a2"
      },
      "outputs": [
        {
          "output_type": "stream",
          "name": "stdout",
          "text": [
            "Successfully extracted all files to . with password dibcmpda\n"
          ]
        }
      ],
      "source": [
        "import subprocess\n",
        "import platform\n",
        "\n",
        "def unzip_with_7z(zip_file_path, dest_path, password):\n",
        "    os_type = platform.system()\n",
        "\n",
        "    if isinstance(password, bytes):\n",
        "        password = password.decode('utf-8')\n",
        "\n",
        "    cmd_output = \"\"\n",
        "\n",
        "    if os_type == 'Darwin':  # macOS\n",
        "        result = subprocess.run(['7za', 'x', '-p' + password, '-o' + dest_path, zip_file_path], stdout=subprocess.PIPE, stderr=subprocess.PIPE, text=True)\n",
        "        cmd_output = result.stdout + result.stderr\n",
        "    elif os_type == 'Windows':  # Windows\n",
        "        result = subprocess.run(['7z', 'x', '-p' + password, '-o' + dest_path, zip_file_path], stdout=subprocess.PIPE, stderr=subprocess.PIPE, text=True)\n",
        "        cmd_output = result.stdout + result.stderr\n",
        "    elif os_type == 'Linux':  # Linux\n",
        "        result = subprocess.run(['7z', 'x', '-p' + password, '-o' + dest_path, zip_file_path], stdout=subprocess.PIPE, stderr=subprocess.PIPE, text=True)\n",
        "        cmd_output = result.stdout + result.stderr\n",
        "    else:\n",
        "        print(f\"Unsupported OS type: {os_type}\")\n",
        "        return False\n",
        "\n",
        "    if \"Everything is Ok\" in cmd_output:\n",
        "        print(f\"Successfully extracted all files to {dest_path} with password {password}\")\n",
        "        return True\n",
        "    else:\n",
        "        return False\n",
        "\n",
        "\n",
        "import random\n",
        "zip_file_path = 'congrats.7z' # keep as is\n",
        "dest_path = '.' # keep as is\n",
        "\n",
        "find_me = '' # 2 letters are missing!\n",
        "secret_password = find_me + 'bcmpda'\n",
        "\n",
        "# WRITE YOUR CODE BELOW\n",
        "# ----------------------------------------\n",
        "\n",
        "while(unzip_with_7z(zip_file_path,dest_path,secret_password)==False):\n",
        "    a=random.randint(97,122)\n",
        "    b=random.randint(97,122)\n",
        "    find_me= chr(a) + chr(b)\n",
        "    secret_password= find_me +'bcmpda'"
      ]
    }
  ]
}