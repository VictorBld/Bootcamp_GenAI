{
  "nbformat": 4,
  "nbformat_minor": 0,
  "metadata": {
    "colab": {
      "provenance": []
    },
    "kernelspec": {
      "name": "python3",
      "display_name": "Python 3"
    },
    "language_info": {
      "name": "python"
    }
  },
  "cells": [
    {
      "cell_type": "code",
      "source": [
        "import random\n",
        "\n",
        "def  number_guessing_game():\n",
        "  random_number=random.randint(1,100)\n",
        "  max_attempts=7\n",
        "  for i in range(max_attempts):\n",
        "    guess=int(input(\"Trouvez le nombre entre 1 et 100:\"))\n",
        "    if guess==random_number:\n",
        "      print(f\"Félicitations vous avez trouvé {random_number} en {i+1} éssais.\")\n",
        "      break\n",
        "    elif guess<random_number:\n",
        "      print(f\"Too low! Il vous reste {6-i} éssais.\")\n",
        "    elif guess>random_number:\n",
        "      print(f\"Too high! Il vous reste {6-i} éssais.\")\n",
        "\n",
        "  if guess!=random_number:\n",
        "    print(f\"Vous avez perdu! Le nombre était {random_number}.\")\n",
        "\n",
        "\n",
        "\n",
        "number_guessing_game()"
      ],
      "metadata": {
        "colab": {
          "base_uri": "https://localhost:8080/"
        },
        "id": "2h9_lw6cs99n",
        "outputId": "1f4fdc5d-74e8-43c2-a9c4-579ec57916fc"
      },
      "execution_count": null,
      "outputs": [
        {
          "output_type": "stream",
          "name": "stdout",
          "text": [
            "Trouvez le nombre entre 1 et 100:50\n",
            "Too low! Il vous reste 6 éssais.\n",
            "Trouvez le nombre entre 1 et 100:50\n",
            "Too low! Il vous reste 5 éssais.\n",
            "Trouvez le nombre entre 1 et 100:50\n",
            "Too low! Il vous reste 4 éssais.\n",
            "Trouvez le nombre entre 1 et 100:50\n",
            "Too low! Il vous reste 3 éssais.\n",
            "Trouvez le nombre entre 1 et 100:50\n",
            "Too low! Il vous reste 2 éssais.\n",
            "Trouvez le nombre entre 1 et 100:50\n",
            "Too low! Il vous reste 1 éssais.\n",
            "Trouvez le nombre entre 1 et 100:50\n",
            "Too low! Il vous reste 0 éssais.\n",
            "Vous avez perdu! Le nombre était 60.\n"
          ]
        }
      ]
    }
  ]
}