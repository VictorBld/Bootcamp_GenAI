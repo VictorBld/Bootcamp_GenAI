{
  "nbformat": 4,
  "nbformat_minor": 0,
  "metadata": {
    "colab": {
      "provenance": []
    },
    "kernelspec": {
      "name": "python3",
      "display_name": "Python 3"
    },
    "language_info": {
      "name": "python"
    }
  },
  "cells": [
    {
      "cell_type": "code",
      "execution_count": 1,
      "metadata": {
        "id": "YJkkrldouzRP",
        "colab": {
          "base_uri": "https://localhost:8080/"
        },
        "outputId": "0890631e-e9ea-4cd5-a858-ec37690d8117"
      },
      "outputs": [
        {
          "output_type": "stream",
          "name": "stdout",
          "text": [
            "Entrez un numéro :5\n",
            "Entrez une longueur:25\n",
            "[5, 10, 15, 20, 25, 30, 35, 40, 45, 50, 55, 60, 65, 70, 75, 80, 85, 90, 95, 100, 105, 110, 115, 120]\n"
          ]
        }
      ],
      "source": [
        "num = int(input(\"Entrez un numéro :\"))\n",
        "length= int (input(\"Entrez une longueur:\"))\n",
        "i = 0\n",
        "l=[]\n",
        "for i in range(1,length):\n",
        "  l.append(num * i)\n",
        "\n",
        "print(l)"
      ]
    },
    {
      "cell_type": "code",
      "source": [
        "mot = input(\"Entrez un mot:\")\n",
        "result=\"\"\n",
        "result += mot[0]\n",
        "for i in range(1, len(mot)):\n",
        "  if mot[i]!=mot[i-1]:\n",
        "    result += mot[i]\n",
        "\n",
        "print(result)"
      ],
      "metadata": {
        "colab": {
          "base_uri": "https://localhost:8080/"
        },
        "id": "I9rp3-zfvvpQ",
        "outputId": "0def638a-8d75-43ce-f3c3-a9446eeebe5e"
      },
      "execution_count": 3,
      "outputs": [
        {
          "output_type": "stream",
          "name": "stdout",
          "text": [
            "Entrez un mot:paaatate\n",
            "patate\n"
          ]
        }
      ]
    }
  ]
}