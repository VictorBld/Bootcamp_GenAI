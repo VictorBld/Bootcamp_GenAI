{
  "nbformat": 4,
  "nbformat_minor": 0,
  "metadata": {
    "colab": {
      "provenance": []
    },
    "kernelspec": {
      "name": "python3",
      "display_name": "Python 3"
    },
    "language_info": {
      "name": "python"
    }
  },
  "cells": [
    {
      "cell_type": "code",
      "execution_count": null,
      "metadata": {
        "colab": {
          "base_uri": "https://localhost:8080/"
        },
        "id": "XrrdhWf0pDyF",
        "outputId": "ca903a84-ce15-41b7-98c2-86f59cd1be68"
      },
      "outputs": [
        {
          "output_type": "stream",
          "name": "stdout",
          "text": [
            "Hello World\n",
            "Hello World\n",
            "Hello World\n",
            "Hello World\n"
          ]
        }
      ],
      "source": [
        "i=0\n",
        "for i in range(4):\n",
        "  print(\"Hello World\")"
      ]
    },
    {
      "cell_type": "code",
      "source": [
        "a= (99**3)*8\n",
        "print(a)"
      ],
      "metadata": {
        "colab": {
          "base_uri": "https://localhost:8080/"
        },
        "id": "XT3AXZ6LphEF",
        "outputId": "94d5c93d-3a87-4e1a-cf5b-6216d820317b"
      },
      "execution_count": null,
      "outputs": [
        {
          "output_type": "stream",
          "name": "stdout",
          "text": [
            "7762392\n"
          ]
        }
      ]
    },
    {
      "cell_type": "code",
      "source": [
        "n1=\"Victor\"\n",
        "n2=input(\"Entrez votre prénom:\")\n",
        "if n1 == n2:\n",
        "  print(\"Nous avons le même prénom ! \")\n",
        "else:\n",
        "  print(\"Nous avons des prénoms différents !\")\n"
      ],
      "metadata": {
        "colab": {
          "base_uri": "https://localhost:8080/"
        },
        "id": "QRzp62LOpz3Q",
        "outputId": "97946402-8118-4746-e9d9-f2d0233e9c54"
      },
      "execution_count": null,
      "outputs": [
        {
          "output_type": "stream",
          "name": "stdout",
          "text": [
            "Entrez votre prénom:Victor\n",
            "Nous avons le même prénom ! \n"
          ]
        }
      ]
    },
    {
      "cell_type": "code",
      "source": [
        "t=int(input(\"Entrez votre taille en cm:\"))\n",
        "if t > 145:\n",
        "  print(\"You have the height to ride a roller coaster !\")\n",
        "else:\n",
        "  print(\"You need to grow up to ride !\")"
      ],
      "metadata": {
        "colab": {
          "base_uri": "https://localhost:8080/"
        },
        "id": "PbhziGjWqcNL",
        "outputId": "5e968b36-53d6-4c5e-c04b-8e53e00fcce2"
      },
      "execution_count": null,
      "outputs": [
        {
          "output_type": "stream",
          "name": "stdout",
          "text": [
            "Entrez votre taille en cm:184\n",
            "You have the height to ride a roller coaster !\n"
          ]
        }
      ]
    },
    {
      "cell_type": "code",
      "source": [
        "fav = {3,6,9,25,30}\n",
        "print(fav)\n",
        "fav.add(20)\n",
        "fav.add(34)\n",
        "print(fav)\n",
        "fav.remove(34)\n",
        "print(fav)\n",
        "my_friendfav={4,7,2,77}\n",
        "set3=fav.union(my_friendfav)\n",
        "print(set3)"
      ],
      "metadata": {
        "colab": {
          "base_uri": "https://localhost:8080/"
        },
        "id": "Lis4wj1Cq4Xu",
        "outputId": "9e3d9747-bec2-421c-c653-3b38ff84af94"
      },
      "execution_count": null,
      "outputs": [
        {
          "output_type": "stream",
          "name": "stdout",
          "text": [
            "{3, 6, 30, 9, 25}\n",
            "{34, 3, 20, 6, 30, 9, 25}\n",
            "{3, 20, 6, 30, 9, 25}\n",
            "{2, 3, 4, 6, 7, 9, 77, 20, 25, 30}\n"
          ]
        }
      ]
    },
    {
      "cell_type": "markdown",
      "source": [
        "6) Oui c'est possible mais en passant par un autre tuple et en faisant la somme des deux"
      ],
      "metadata": {
        "id": "x5TwDmIjs4u7"
      }
    },
    {
      "cell_type": "code",
      "source": [
        "basket = [\"Banana\", \"Apples\", \"Oranges\", \"Blueberries\"]\n",
        "basket.remove(\"Banana\")\n",
        "basket.remove(\"Blueberries\")\n",
        "basket.append(\"Kiwi\")\n",
        "basket.insert(0,\"Apples\")\n",
        "print(basket.count(\"Apples\"))\n",
        "basket.clear()\n",
        "print(basket)"
      ],
      "metadata": {
        "colab": {
          "base_uri": "https://localhost:8080/"
        },
        "id": "PkIode88s-BY",
        "outputId": "5ce7dd0a-e759-4bfc-fd8c-98d379c382d1"
      },
      "execution_count": null,
      "outputs": [
        {
          "output_type": "stream",
          "name": "stdout",
          "text": [
            "2\n",
            "[]\n"
          ]
        }
      ]
    },
    {
      "cell_type": "code",
      "source": [
        "sandwich_orders = [\"Tuna sandwich\", \"Pastrami sandwich\", \"Avocado sandwich\", \"Pastrami sandwich\", \"Egg sandwich\", \"Chicken sandwich\", \"Pastrami sandwich\"]\n",
        "while \"Pastrami sandwich\" in sandwich_orders:\n",
        "  sandwich_orders.remove(\"Pastrami sandwich\")\n",
        "print(sandwich_orders)\n",
        "\n",
        "finished_sandwich = []\n",
        "i=0\n",
        "t = len(sandwich_orders)\n",
        "while i < t:\n",
        "  finished_sandwich.append(sandwich_orders[0])\n",
        "  sandwich_orders.remove(sandwich_orders[0])\n",
        "  i+=1\n",
        "\n",
        "print(sandwich_orders)\n",
        "print(finished_sandwich)\n",
        "\n",
        "for sandwich in finished_sandwich:\n",
        "  print(f\"I made your {sandwich}\")\n"
      ],
      "metadata": {
        "colab": {
          "base_uri": "https://localhost:8080/"
        },
        "id": "36wc-TJpxGgn",
        "outputId": "c4a0de01-c310-4985-8c0c-4be139bdf57e"
      },
      "execution_count": null,
      "outputs": [
        {
          "output_type": "stream",
          "name": "stdout",
          "text": [
            "['Tuna sandwich', 'Avocado sandwich', 'Egg sandwich', 'Chicken sandwich']\n",
            "[]\n",
            "['Tuna sandwich', 'Avocado sandwich', 'Egg sandwich', 'Chicken sandwich']\n",
            "I made your Tuna sandwich\n",
            "I made your Avocado sandwich\n",
            "I made your Egg sandwich\n",
            "I made your Chicken sandwich\n"
          ]
        }
      ]
    }
  ]
}