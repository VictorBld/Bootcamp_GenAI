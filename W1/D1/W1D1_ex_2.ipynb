{
  "nbformat": 4,
  "nbformat_minor": 0,
  "metadata": {
    "colab": {
      "provenance": []
    },
    "kernelspec": {
      "name": "python3",
      "display_name": "Python 3"
    },
    "language_info": {
      "name": "python"
    }
  },
  "cells": [
    {
      "cell_type": "code",
      "execution_count": 2,
      "metadata": {
        "colab": {
          "base_uri": "https://localhost:8080/"
        },
        "id": "WSzK1sVP9KlO",
        "outputId": "7a825e92-f5d6-4fc1-e6fe-f11dd3ca2c67"
      },
      "outputs": [
        {
          "output_type": "stream",
          "name": "stdout",
          "text": [
            "Entrez un chiffre entre 1 et 12:4\n",
            "Spring\n"
          ]
        }
      ],
      "source": [
        "a= int(input(\"Entrez un chiffre entre 1 et 12:\"))\n",
        "\n",
        "if a in {3,4,5}:\n",
        "  print(\"Spring\")\n",
        "elif a  in {6,7,8}:\n",
        "  print(\"Summer\")\n",
        "elif a  in {9,10,11}:\n",
        "  print(\"Autumn\")\n",
        "else:\n",
        "  print(\"Winter\")"
      ]
    },
    {
      "cell_type": "code",
      "source": [
        "for i in range (1,21):\n",
        "  print(i)\n"
      ],
      "metadata": {
        "colab": {
          "base_uri": "https://localhost:8080/"
        },
        "id": "-ZI1MBhc-Awh",
        "outputId": "c8a28df7-0ea8-42cc-87ca-b2df3639523a"
      },
      "execution_count": 6,
      "outputs": [
        {
          "output_type": "stream",
          "name": "stdout",
          "text": [
            "1\n",
            "2\n",
            "3\n",
            "4\n",
            "5\n",
            "6\n",
            "7\n",
            "8\n",
            "9\n",
            "10\n",
            "11\n",
            "12\n",
            "13\n",
            "14\n",
            "15\n",
            "16\n",
            "17\n",
            "18\n",
            "19\n",
            "20\n"
          ]
        }
      ]
    },
    {
      "cell_type": "code",
      "source": [
        "for i in range (1,21):\n",
        "  if\n",
        "  print(i)"
      ],
      "metadata": {
        "id": "Br-Jfy1P-fKZ"
      },
      "execution_count": null,
      "outputs": []
    },
    {
      "cell_type": "code",
      "source": [
        "for i in range(1, 21):\n",
        "  if i % 2 == 0:\n",
        "    print(i)\n",
        "\n"
      ],
      "metadata": {
        "colab": {
          "base_uri": "https://localhost:8080/"
        },
        "id": "LeRU2KaD-oBU",
        "outputId": "0d92135c-3d1f-4090-8c54-31bf132bc627"
      },
      "execution_count": 7,
      "outputs": [
        {
          "output_type": "stream",
          "name": "stdout",
          "text": [
            "2\n",
            "4\n",
            "6\n",
            "8\n",
            "10\n",
            "12\n",
            "14\n",
            "16\n",
            "18\n",
            "20\n"
          ]
        }
      ]
    },
    {
      "cell_type": "code",
      "source": [
        "n=\"Victor\"\n",
        "t=input(\"Veuillez entre votre nom:\")\n",
        "while t!=n:\n",
        "  t=input(\"Veuillez entrer votre nom:\")\n"
      ],
      "metadata": {
        "colab": {
          "base_uri": "https://localhost:8080/"
        },
        "id": "4l76aq2--26k",
        "outputId": "89883311-18c2-43b0-d1c0-f5fe78eae9ad"
      },
      "execution_count": 8,
      "outputs": [
        {
          "name": "stdout",
          "output_type": "stream",
          "text": [
            "Veuillez entre votre nom:Thomas\n",
            "Veuillez entrer votre nom:Victor\n"
          ]
        }
      ]
    },
    {
      "cell_type": "code",
      "source": [
        "names = ['Samus', 'Cortana', 'V', 'Link', 'Mario', 'Cortana', 'Samus']\n",
        "p=input(\"Veuillez entrer un nom:\")\n",
        "\n",
        "if p in names:\n",
        "  print(f\"l'index du nom {p} est {names.index(p)}\")\n",
        "\n"
      ],
      "metadata": {
        "colab": {
          "base_uri": "https://localhost:8080/"
        },
        "id": "anlcrYGiAszD",
        "outputId": "d15a3c3e-550b-4209-d90b-d563ac107ba5"
      },
      "execution_count": 10,
      "outputs": [
        {
          "output_type": "stream",
          "name": "stdout",
          "text": [
            "Veuillez entrer un nom:Cortana\n",
            "l'index du nom Cortana est 1\n"
          ]
        }
      ]
    },
    {
      "cell_type": "code",
      "source": [
        "num1= float(input(\"Entrez un numéro:\"))\n",
        "num2= float(input(\"Entrez un numéro:\"))\n",
        "num3= float(input(\"Entrez un numéro:\"))\n",
        "\n",
        "if num1>num2:\n",
        "  largest=num1\n",
        "  if num1<num3:\n",
        "    largest=num3\n",
        "else:\n",
        "  largest=num2\n",
        "  if num2<num3:\n",
        "    largest=num3\n",
        "print(f\"le plus grand est {largest}\")"
      ],
      "metadata": {
        "colab": {
          "base_uri": "https://localhost:8080/"
        },
        "id": "On-2_DOBCDo1",
        "outputId": "b738a1f6-412f-4abb-ddfa-7191eaafca28"
      },
      "execution_count": 12,
      "outputs": [
        {
          "output_type": "stream",
          "name": "stdout",
          "text": [
            "Entrez un numéro:23\n",
            "Entrez un numéro:43\n",
            "Entrez un numéro:56\n",
            "le plus grand est 56.0\n"
          ]
        }
      ]
    },
    {
      "cell_type": "code",
      "source": [
        "import random\n",
        "a = int(input(\"Veuillez entre un nombre:\"))\n",
        "b=random.randint(1,9)\n",
        "if a==b:\n",
        "  print(\"You win\")\n",
        "else:\n",
        "  print(\"You lose, better luck next time!\")"
      ],
      "metadata": {
        "colab": {
          "base_uri": "https://localhost:8080/"
        },
        "id": "bFCDaR1EDUlY",
        "outputId": "74e0154b-7101-41f5-ff83-363a7450009f"
      },
      "execution_count": 13,
      "outputs": [
        {
          "output_type": "stream",
          "name": "stdout",
          "text": [
            "Veuillez entre un nombre:3\n",
            "You lose, better luck next time!\n"
          ]
        }
      ]
    }
  ]
}