{
  "nbformat": 4,
  "nbformat_minor": 0,
  "metadata": {
    "colab": {
      "provenance": []
    },
    "kernelspec": {
      "name": "python3",
      "display_name": "Python 3"
    },
    "language_info": {
      "name": "python"
    }
  },
  "cells": [
    {
      "cell_type": "code",
      "source": [
        "letter_index= {}\n",
        "word = input(\"Enter a word:\")\n",
        "for index, letter in enumerate(word):\n",
        "  if letter in letter_index:\n",
        "    letter_index[letter].append(index)\n",
        "  else:\n",
        "    letter_index[letter]=[index]\n",
        "print(letter_index)\n"
      ],
      "metadata": {
        "colab": {
          "base_uri": "https://localhost:8080/"
        },
        "id": "KA-SRr8vlFv4",
        "outputId": "79d5b93d-1fea-4ee5-9b6e-ffdf902c8f13"
      },
      "execution_count": null,
      "outputs": [
        {
          "output_type": "stream",
          "name": "stdout",
          "text": [
            "Enter a word:victoire\n",
            "{'v': [0], 'i': [1, 5], 'c': [2], 't': [3], 'o': [4], 'r': [6], 'e': [7]}\n"
          ]
        }
      ]
    }
  ]
}