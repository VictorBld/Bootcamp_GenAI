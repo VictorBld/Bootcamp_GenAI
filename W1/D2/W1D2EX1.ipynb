{
  "nbformat": 4,
  "nbformat_minor": 0,
  "metadata": {
    "colab": {
      "provenance": []
    },
    "kernelspec": {
      "name": "python3",
      "display_name": "Python 3"
    },
    "language_info": {
      "name": "python"
    }
  },
  "cells": [
    {
      "cell_type": "code",
      "execution_count": null,
      "metadata": {
        "colab": {
          "base_uri": "https://localhost:8080/"
        },
        "id": "sapVippBLD3g",
        "outputId": "315dcb71-c811-445b-b4ab-3339f2bda78d"
      },
      "outputs": [
        {
          "output_type": "stream",
          "name": "stdout",
          "text": [
            "{'Ten': 10, 'Twenty': 20, 'Thirty': 30}\n"
          ]
        }
      ],
      "source": [
        "keys = ['Ten', 'Twenty', 'Thirty']\n",
        "values = [10, 20, 30]\n",
        "\n",
        "d=dict(zip(keys,values))\n",
        "\n",
        "print(d)\n"
      ]
    },
    {
      "cell_type": "code",
      "source": [
        "family = {\"rick\": 43, 'beth': 13, 'morty': 5, 'summer': 8}\n"
      ],
      "metadata": {
        "id": "WLNFynafSG2L"
      },
      "execution_count": null,
      "outputs": []
    },
    {
      "cell_type": "code",
      "source": [
        "d={'name' : 'Zara',\n",
        "  'creation_date' : 1975,\n",
        "  'creator_name': 'Amancio Ortega Gaona',\n",
        "  'type_of_clothes': ['men', 'women', 'children', 'home'],\n",
        "  'international_competitors': ['Gap', 'H&M', 'Benetton'],\n",
        "  'number_stores' : 7000,\n",
        "  'major_color':{\n",
        "    'France': 'blue',\n",
        "    'Spain': 'red',\n",
        "    'US': ['green','pink']}\n",
        "    }\n",
        "\n",
        "print(d)\n",
        "\n",
        "d[\"number_stores\"]=2\n",
        "\n",
        "print(f\"The Zara type of clients are {d['type_of_clothes']}\")\n",
        "\n",
        "d[\"country_creation\"]=\"Spain\"\n",
        "print(d)\n",
        "\n",
        "# if \"international_competitors\" in d:\n",
        "#   d[\"international_competitors\"]=d[\"international_competitors\"].append('Desigual')\n",
        "\n",
        "d.pop(\"creation_date\")\n",
        "print(d)\n",
        "\n",
        "print(d[\"international_competitors\"][-1])\n",
        "\n",
        "print(d[\"major_color\"][\"US\"])\n",
        "\n",
        "for key in d:\n",
        "  print(key)\n",
        "\n",
        "more_on_zara = {'creation_date':1975,\n",
        "                'number_stores': 10000,}\n",
        "\n",
        "d.update(more_on_zara)\n",
        "print(d)\n",
        "\n",
        "print(d['number_stores'])"
      ],
      "metadata": {
        "colab": {
          "base_uri": "https://localhost:8080/"
        },
        "id": "9PV0LxAnU1Co",
        "outputId": "1a4af00d-8cef-4754-e668-3437f8253808"
      },
      "execution_count": 33,
      "outputs": [
        {
          "output_type": "stream",
          "name": "stdout",
          "text": [
            "{'name': 'Zara', 'creation_date': 1975, 'creator_name': 'Amancio Ortega Gaona', 'type_of_clothes': ['men', 'women', 'children', 'home'], 'international_competitors': ['Gap', 'H&M', 'Benetton'], 'number_stores': 7000, 'major_color': {'France': 'blue', 'Spain': 'red', 'US': ['green', 'pink']}}\n",
            "The Zara type of clients are ['men', 'women', 'children', 'home']\n",
            "{'name': 'Zara', 'creation_date': 1975, 'creator_name': 'Amancio Ortega Gaona', 'type_of_clothes': ['men', 'women', 'children', 'home'], 'international_competitors': ['Gap', 'H&M', 'Benetton'], 'number_stores': 2, 'major_color': {'France': 'blue', 'Spain': 'red', 'US': ['green', 'pink']}, 'country_creation': 'Spain'}\n",
            "{'name': 'Zara', 'creator_name': 'Amancio Ortega Gaona', 'type_of_clothes': ['men', 'women', 'children', 'home'], 'international_competitors': ['Gap', 'H&M', 'Benetton'], 'number_stores': 2, 'major_color': {'France': 'blue', 'Spain': 'red', 'US': ['green', 'pink']}, 'country_creation': 'Spain'}\n",
            "Benetton\n",
            "['green', 'pink']\n",
            "name\n",
            "creator_name\n",
            "type_of_clothes\n",
            "international_competitors\n",
            "number_stores\n",
            "major_color\n",
            "country_creation\n",
            "{'name': 'Zara', 'creator_name': 'Amancio Ortega Gaona', 'type_of_clothes': ['men', 'women', 'children', 'home'], 'international_competitors': ['Gap', 'H&M', 'Benetton'], 'number_stores': 10000, 'major_color': {'France': 'blue', 'Spain': 'red', 'US': ['green', 'pink']}, 'country_creation': 'Spain', 'creation_date': 1975}\n",
            "10000\n"
          ]
        }
      ]
    },
    {
      "cell_type": "code",
      "source": [
        "def describe_city(city,country):\n",
        "  print(f\"{city} is in {country}\")\n",
        "\n",
        "describe_city(\"paris\",\"france\")"
      ],
      "metadata": {
        "colab": {
          "base_uri": "https://localhost:8080/"
        },
        "id": "lKFucJgTdTIZ",
        "outputId": "fddb597d-0118-4a98-fa4d-62edb50c3c24"
      },
      "execution_count": 35,
      "outputs": [
        {
          "output_type": "stream",
          "name": "stdout",
          "text": [
            "paris is in france\n"
          ]
        }
      ]
    },
    {
      "cell_type": "code",
      "source": [
        "import random\n",
        "\n",
        "def rand(num):\n",
        "  x=random.randint(1,100)\n",
        "  if x==num:\n",
        "    print(\"Success\")\n",
        "  else:\n",
        "    print(\"Fail\")\n",
        "    print(f\"{x} and {num}\")\n",
        "\n",
        "rand(55)"
      ],
      "metadata": {
        "colab": {
          "base_uri": "https://localhost:8080/"
        },
        "id": "8wforP5bdyj2",
        "outputId": "2e95a096-5f81-48e5-a97b-a20a665de2bb"
      },
      "execution_count": 36,
      "outputs": [
        {
          "output_type": "stream",
          "name": "stdout",
          "text": [
            "Fail\n",
            "43 and 55\n"
          ]
        }
      ]
    },
    {
      "cell_type": "code",
      "source": [
        "def make_shirt(size,text):\n",
        "  print(f\"The size of the shirt is {size} and the text is {text}\")\n",
        "\n",
        "make_shirt(\"L\",\"I love Paris\")\n",
        "\n",
        "def make_shirt(size=\"L\",text=\"I love Python\"):\n",
        "  print(f\"The size of the shirt is {size} and the text is {text}\")\n",
        "\n",
        "make_shirt()\n",
        "make_shirt(\"M\")\n",
        "make_shirt(\"S\",\"I love SQL\")"
      ],
      "metadata": {
        "colab": {
          "base_uri": "https://localhost:8080/"
        },
        "id": "CKa5Au83eUOe",
        "outputId": "f23be59c-e0c2-4c85-c027-d763c3aa73cd"
      },
      "execution_count": 40,
      "outputs": [
        {
          "output_type": "stream",
          "name": "stdout",
          "text": [
            "The size of the shirt is L and the text is I love Paris\n",
            "The size of the shirt is L and the text is I love Python\n",
            "The size of the shirt is M and the text is I love Python\n",
            "The size of the shirt is S and the text is I love SQL\n"
          ]
        }
      ]
    },
    {
      "cell_type": "code",
      "source": [
        "def get_random_temp(season):\n",
        "  season.lower()\n",
        "  if season==\"winter\":\n",
        "    temp=random.randint(-10,16)\n",
        "  elif season==\"summer\":\n",
        "    temp=random.randint(26,40)\n",
        "  elif season==\"spring\":\n",
        "    temp=random.randint(15,28)\n",
        "  elif season==\"fall\":\n",
        "    temp=random.randint(0,20)\n",
        "  return temp\n",
        "\n",
        "# get_random_temp()\n",
        "\n",
        "def main():\n",
        "  season=input(\"type a season:(winter, fall, spring,summer) \")\n",
        "  t=get_random_temp(season)\n",
        "  if t < 0:\n",
        "    print(\"Brrr, that’s freezing! Wear some extra layers today\")\n",
        "  elif t <=16:\n",
        "    print(\"Quite chilly! Don’t forget your coat”\")\n",
        "  elif t<=23:\n",
        "    print(\"Don't forget the sweat\")\n",
        "  elif t<=32:\n",
        "    print(\"Don't forget your sunglasses\")\n",
        "  else:\n",
        "    print(\"It's hot outside don't wear to much\")\n",
        "\n",
        "main()"
      ],
      "metadata": {
        "colab": {
          "base_uri": "https://localhost:8080/"
        },
        "id": "pRwwQ_4nfF_8",
        "outputId": "a7210376-9ed1-4699-b747-64c6888aacad"
      },
      "execution_count": 46,
      "outputs": [
        {
          "output_type": "stream",
          "name": "stdout",
          "text": [
            "type a season:(winter, fall, spring,summer) spring\n",
            "Don't forget the sweat\n"
          ]
        }
      ]
    },
    {
      "cell_type": "code",
      "source": [
        "data = [\n",
        "    {\n",
        "        \"question\": \"What is Baby Yoda's real name?\",\n",
        "        \"answer\": \"Grogu\"\n",
        "    },\n",
        "    {\n",
        "        \"question\": \"Where did Obi-Wan take Luke after his birth?\",\n",
        "        \"answer\": \"Tatooine\"\n",
        "    },\n",
        "    {\n",
        "        \"question\": \"What year did the first Star Wars movie come out?\",\n",
        "        \"answer\": \"1977\"\n",
        "    },\n",
        "    {\n",
        "        \"question\": \"Who built C-3PO?\",\n",
        "        \"answer\": \"Anakin Skywalker\"\n",
        "    },\n",
        "    {\n",
        "        \"question\": \"Anakin Skywalker grew up to be who?\",\n",
        "        \"answer\": \"Darth Vader\"\n",
        "    },\n",
        "    {\n",
        "        \"question\": \"What species is Chewbacca?\",\n",
        "        \"answer\": \"Wookiee\"\n",
        "    }\n",
        "]\n",
        "\n",
        "def ask_questions():\n",
        "  good_answer = 0\n",
        "  wrong_answer = 0\n",
        "  for question in data:\n",
        "    answer=input(question[\"question\"])\n",
        "    if answer.lower()==question[\"answer\"].lower():\n",
        "      print(\"Correct\")\n",
        "      good_answer+=1\n",
        "    else:\n",
        "      print(\"Wrong\")\n",
        "      wrong_answer+=1\n",
        "  print(f\"You got {good_answer} good answers and {wrong_answer} wrong answers\")\n",
        "\n",
        "ask_questions()\n",
        "\n",
        "\n",
        "\n",
        "\n",
        "\n",
        "\n"
      ],
      "metadata": {
        "colab": {
          "base_uri": "https://localhost:8080/"
        },
        "id": "ekVUqnfghsBa",
        "outputId": "85cfb2a8-dfd2-4a64-b5f0-5911fde94ce8"
      },
      "execution_count": 54,
      "outputs": [
        {
          "output_type": "stream",
          "name": "stdout",
          "text": [
            "What is Baby Yoda's real name?e\n",
            "Wrong\n",
            "Where did Obi-Wan take Luke after his birth?e\n",
            "Wrong\n",
            "What year did the first Star Wars movie come out?e\n",
            "Wrong\n",
            "Who built C-3PO?e\n",
            "Wrong\n",
            "Anakin Skywalker grew up to be who?e\n",
            "Wrong\n",
            "What species is Chewbacca?e\n",
            "Wrong\n",
            "You got 0 good answers and 6 wrong answers\n"
          ]
        }
      ]
    }
  ]
}