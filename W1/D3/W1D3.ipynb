{
  "nbformat": 4,
  "nbformat_minor": 0,
  "metadata": {
    "colab": {
      "provenance": []
    },
    "kernelspec": {
      "name": "python3",
      "display_name": "Python 3"
    },
    "language_info": {
      "name": "python"
    }
  },
  "cells": [
    {
      "cell_type": "code",
      "execution_count": 1,
      "metadata": {
        "id": "MOt7zNqNS9aB"
      },
      "outputs": [],
      "source": [
        "class Cat:\n",
        "    def __init__(self, cat_name, cat_age):\n",
        "        self.name = cat_name\n",
        "        self.age = cat_age"
      ]
    },
    {
      "cell_type": "code",
      "source": [
        "first_cat = Cat(\"Felix\", 10)\n",
        "second_cat= Cat(\"Féline\", 8)\n",
        "third_cat = Cat(\"Garfield\", 7)"
      ],
      "metadata": {
        "id": "YYk1Sp-GTJ6x"
      },
      "execution_count": 2,
      "outputs": []
    },
    {
      "cell_type": "code",
      "source": [
        "def find_oldest_cat(cats):\n",
        "  oldest_cat = None\n",
        "  for cat in cats:\n",
        "    if oldest_cat is None or cat.age > oldest_cat.age:\n",
        "      oldest_cat = cat\n",
        "  return oldest_cat\n",
        "\n",
        "cats = [first_cat, second_cat, third_cat]\n",
        "oldest = find_oldest_cat(cats)\n",
        "\n",
        "print(f\"The oldest cat is {oldest.name}, and is {oldest.age} years old.\")"
      ],
      "metadata": {
        "id": "C_CrfXSjZpsK"
      },
      "execution_count": null,
      "outputs": []
    },
    {
      "cell_type": "code",
      "source": [
        "class Dog():\n",
        "  def __init__(self,name,height) :\n",
        "    self.name = name\n",
        "    self.height = height"
      ],
      "metadata": {
        "id": "5Lw94WCnZ4Wm"
      },
      "execution_count": 12,
      "outputs": []
    },
    {
      "cell_type": "code",
      "source": [
        "def bark(self):\n",
        "    print(f\"{self.name} goes woof!\")"
      ],
      "metadata": {
        "id": "7ElaEaZoainC"
      },
      "execution_count": 13,
      "outputs": []
    },
    {
      "cell_type": "code",
      "source": [
        "def jump(self):\n",
        "  x = self.height * 2\n",
        "  print(f\"{self.name} jumps {x} cm heigh.\")"
      ],
      "metadata": {
        "id": "55x0t4pdaoOG"
      },
      "execution_count": 14,
      "outputs": []
    },
    {
      "cell_type": "code",
      "source": [
        "david_dogs=Dog(\"Rex\", 50)\n",
        "print(david_dogs.name)\n",
        "print(david_dogs.height)\n",
        "bark(david_dogs)\n",
        "jump(david_dogs)\n"
      ],
      "metadata": {
        "colab": {
          "base_uri": "https://localhost:8080/"
        },
        "id": "gw0t80IfbG_f",
        "outputId": "5b7847c9-a3de-4741-f324-4a73123ee70a"
      },
      "execution_count": 19,
      "outputs": [
        {
          "output_type": "stream",
          "name": "stdout",
          "text": [
            "Rex\n",
            "50\n",
            "Rex goes woof!\n",
            "Rex jumps 100 cm heigh.\n"
          ]
        }
      ]
    },
    {
      "cell_type": "code",
      "source": [
        "sarah_dogs=Dog(\"Teacup\", 20)\n",
        "print(sarah_dogs.name)\n",
        "print(sarah_dogs.height)\n",
        "bark(sarah_dogs)\n",
        "jump(sarah_dogs)"
      ],
      "metadata": {
        "colab": {
          "base_uri": "https://localhost:8080/"
        },
        "id": "sm_oiJGLbtiM",
        "outputId": "a72fe7ab-8af0-4dfc-fb5c-90c3f584c9d7"
      },
      "execution_count": 21,
      "outputs": [
        {
          "output_type": "stream",
          "name": "stdout",
          "text": [
            "Teacup\n",
            "20\n",
            "Teacup goes woof!\n",
            "Teacup jumps 40 cm heigh.\n"
          ]
        }
      ]
    },
    {
      "cell_type": "code",
      "source": [
        "if david_dogs.height > sarah_dogs.height:\n",
        "  print(f\"{david_dogs.name} is the bigger dog.\")\n",
        "else:\n",
        "  print(f\"{sarah_dogs.name} is the bigger dog.\")"
      ],
      "metadata": {
        "colab": {
          "base_uri": "https://localhost:8080/"
        },
        "id": "IjEcrQ2eb6R6",
        "outputId": "0b2df3df-eb48-4ece-9850-bf085e22875c"
      },
      "execution_count": 22,
      "outputs": [
        {
          "output_type": "stream",
          "name": "stdout",
          "text": [
            "Rex is the bigger dog.\n"
          ]
        }
      ]
    },
    {
      "cell_type": "code",
      "source": [
        "class Song():\n",
        "  def __init__(self, lyrics):\n",
        "    self.lyrics = lyrics\n",
        "\n",
        "def sing_me_a_song(self):\n",
        "  for line in self.lyrics:\n",
        "    print(line)\n",
        "\n",
        "stairway= Song([\"There’s a lady who's sure\",\"all that glitters is gold\", \"and she’s buying a stairway to heaven\"])\n",
        "\n",
        "sing_me_a_song(stairway)"
      ],
      "metadata": {
        "colab": {
          "base_uri": "https://localhost:8080/"
        },
        "id": "ZmvbyyOLdOf6",
        "outputId": "a7228177-d0c4-4825-ca5f-c699c61ba4d5"
      },
      "execution_count": 28,
      "outputs": [
        {
          "output_type": "stream",
          "name": "stdout",
          "text": [
            "There’s a lady who's sure\n",
            "all that glitters is gold\n",
            "and she’s buying a stairway to heaven\n"
          ]
        }
      ]
    },
    {
      "cell_type": "code",
      "source": [
        "class Zoo():\n",
        "  def __init__(self,zoo_name):\n",
        "    self.zoo_name = zoo_name\n",
        "    self.animals= animals\n",
        "\n",
        "def add_animals(new_animal):\n",
        "  if new_animal not in self.animals:\n",
        "    self.animals.append(new_animal)\n",
        "\n",
        "def get_animals():\n",
        "  print(self.animals)\n",
        "\n",
        "def sell_animal(animal_sold):\n",
        "  if animal_sold in self.animals:\n",
        "    self.animals.remove(animal_sold)\n",
        "\n",
        "\n",
        "\n"
      ],
      "metadata": {
        "id": "tKXReKNed1iQ"
      },
      "execution_count": 33,
      "outputs": []
    }
  ]
}