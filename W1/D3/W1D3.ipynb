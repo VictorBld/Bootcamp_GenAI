{
  "cells": [
    {
      "cell_type": "code",
      "execution_count": 1,
      "metadata": {
        "id": "MOt7zNqNS9aB"
      },
      "outputs": [],
      "source": [
        "class Cat:\n",
        "    def __init__(self, cat_name, cat_age):\n",
        "        self.name = cat_name\n",
        "        self.age = cat_age"
      ]
    },
    {
      "cell_type": "code",
      "execution_count": 2,
      "metadata": {
        "id": "YYk1Sp-GTJ6x"
      },
      "outputs": [],
      "source": [
        "first_cat = Cat(\"Felix\", 10)\n",
        "second_cat= Cat(\"Féline\", 8)\n",
        "third_cat = Cat(\"Garfield\", 7)"
      ]
    },
    {
      "cell_type": "code",
      "execution_count": null,
      "metadata": {
        "id": "C_CrfXSjZpsK"
      },
      "outputs": [],
      "source": [
        "def find_oldest_cat(cats):\n",
        "  oldest_cat = None\n",
        "  for cat in cats:\n",
        "    if oldest_cat is None or cat.age > oldest_cat.age:\n",
        "      oldest_cat = cat\n",
        "  return oldest_cat\n",
        "\n",
        "cats = [first_cat, second_cat, third_cat]\n",
        "oldest = find_oldest_cat(cats)\n",
        "\n",
        "print(f\"The oldest cat is {oldest.name}, and is {oldest.age} years old.\")"
      ]
    },
    {
      "cell_type": "code",
      "execution_count": 12,
      "metadata": {
        "id": "5Lw94WCnZ4Wm"
      },
      "outputs": [],
      "source": [
        "class Dog():\n",
        "  def __init__(self,name,height) :\n",
        "    self.name = name\n",
        "    self.height = height"
      ]
    },
    {
      "cell_type": "code",
      "execution_count": 13,
      "metadata": {
        "id": "7ElaEaZoainC"
      },
      "outputs": [],
      "source": [
        "def bark(self):\n",
        "    print(f\"{self.name} goes woof!\")"
      ]
    },
    {
      "cell_type": "code",
      "execution_count": 14,
      "metadata": {
        "id": "55x0t4pdaoOG"
      },
      "outputs": [],
      "source": [
        "def jump(self):\n",
        "  x = self.height * 2\n",
        "  print(f\"{self.name} jumps {x} cm heigh.\")"
      ]
    },
    {
      "cell_type": "code",
      "execution_count": 19,
      "metadata": {
        "colab": {
          "base_uri": "https://localhost:8080/"
        },
        "id": "gw0t80IfbG_f",
        "outputId": "5b7847c9-a3de-4741-f324-4a73123ee70a"
      },
      "outputs": [
        {
          "name": "stdout",
          "output_type": "stream",
          "text": [
            "Rex\n",
            "50\n",
            "Rex goes woof!\n",
            "Rex jumps 100 cm heigh.\n"
          ]
        }
      ],
      "source": [
        "david_dogs=Dog(\"Rex\", 50)\n",
        "print(david_dogs.name)\n",
        "print(david_dogs.height)\n",
        "bark(david_dogs)\n",
        "jump(david_dogs)\n"
      ]
    },
    {
      "cell_type": "code",
      "execution_count": 21,
      "metadata": {
        "colab": {
          "base_uri": "https://localhost:8080/"
        },
        "id": "sm_oiJGLbtiM",
        "outputId": "a72fe7ab-8af0-4dfc-fb5c-90c3f584c9d7"
      },
      "outputs": [
        {
          "name": "stdout",
          "output_type": "stream",
          "text": [
            "Teacup\n",
            "20\n",
            "Teacup goes woof!\n",
            "Teacup jumps 40 cm heigh.\n"
          ]
        }
      ],
      "source": [
        "sarah_dogs=Dog(\"Teacup\", 20)\n",
        "print(sarah_dogs.name)\n",
        "print(sarah_dogs.height)\n",
        "bark(sarah_dogs)\n",
        "jump(sarah_dogs)"
      ]
    },
    {
      "cell_type": "code",
      "execution_count": 22,
      "metadata": {
        "colab": {
          "base_uri": "https://localhost:8080/"
        },
        "id": "IjEcrQ2eb6R6",
        "outputId": "0b2df3df-eb48-4ece-9850-bf085e22875c"
      },
      "outputs": [
        {
          "name": "stdout",
          "output_type": "stream",
          "text": [
            "Rex is the bigger dog.\n"
          ]
        }
      ],
      "source": [
        "if david_dogs.height > sarah_dogs.height:\n",
        "  print(f\"{david_dogs.name} is the bigger dog.\")\n",
        "else:\n",
        "  print(f\"{sarah_dogs.name} is the bigger dog.\")"
      ]
    },
    {
      "cell_type": "code",
      "execution_count": 28,
      "metadata": {
        "colab": {
          "base_uri": "https://localhost:8080/"
        },
        "id": "ZmvbyyOLdOf6",
        "outputId": "a7228177-d0c4-4825-ca5f-c699c61ba4d5"
      },
      "outputs": [
        {
          "name": "stdout",
          "output_type": "stream",
          "text": [
            "There’s a lady who's sure\n",
            "all that glitters is gold\n",
            "and she’s buying a stairway to heaven\n"
          ]
        }
      ],
      "source": [
        "class Song():\n",
        "  def __init__(self, lyrics):\n",
        "    self.lyrics = lyrics\n",
        "\n",
        "def sing_me_a_song(self):\n",
        "  for line in self.lyrics:\n",
        "    print(line)\n",
        "\n",
        "stairway= Song([\"There’s a lady who's sure\",\"all that glitters is gold\", \"and she’s buying a stairway to heaven\"])\n",
        "\n",
        "sing_me_a_song(stairway)"
      ]
    },
    {
      "cell_type": "code",
      "execution_count": 4,
      "metadata": {
        "id": "tKXReKNed1iQ"
      },
      "outputs": [],
      "source": [
        "class Zoo():\n",
        "  def __init__(self,zoo_name):\n",
        "    self.zoo_name = zoo_name\n",
        "    self.animals= []\n",
        "\n",
        "def add_animals(self, new_animal):\n",
        "  if new_animal not in self.animals:\n",
        "    self.animals.append(new_animal)\n",
        "\n",
        "def get_animals(self):\n",
        "  print(self.animals)\n",
        "\n",
        "def sell_animal(self, animal_sold):\n",
        "  if animal_sold in self.animals:\n",
        "    self.animals.remove(animal_sold)\n",
        "\n",
        "def sort_animals(self):\n",
        "    self.animals.sort()\n",
        "    animal_groups = {}\n",
        "    for animal in self.animals:\n",
        "      first_letter = animal[0].upper()\n",
        "      if first_letter not in animal_groups:\n",
        "        animal_groups[first_letter] = []\n",
        "      animal_groups[first_letter].append(animal)\n",
        "    return animal_groups\n",
        "\n",
        "def get_groups(animal_groups):\n",
        "  print(animal_groups)\n",
        "\n",
        "ramat_gan_safari = Zoo(\"Ramat Gansafari\")\n",
        "\n",
        "\n",
        "\n"
      ]
    },
    {
      "cell_type": "code",
      "execution_count": 5,
      "metadata": {
        "colab": {
          "base_uri": "https://localhost:8080/"
        },
        "id": "jyNZXJjmmT_B",
        "outputId": "22420c28-b1dd-4b3e-961c-2334a5c078f3"
      },
      "outputs": [
        {
          "name": "stdout",
          "output_type": "stream",
          "text": [
            "['Giraffe']\n",
            "[]\n",
            "['Giraffe', 'Tortue', 'Cochon', 'Grenouille']\n",
            "{'C': ['Cochon'], 'G': ['Giraffe', 'Grenouille'], 'T': ['Tortue']}\n"
          ]
        }
      ],
      "source": [
        "add_animals(ramat_gan_safari, \"Giraffe\")\n",
        "get_animals(ramat_gan_safari)\n",
        "sell_animal(ramat_gan_safari, \"Giraffe\")\n",
        "get_animals(ramat_gan_safari)\n",
        "add_animals(ramat_gan_safari, \"Giraffe\")\n",
        "add_animals(ramat_gan_safari, \"Tortue\")\n",
        "add_animals(ramat_gan_safari, \"Cochon\")\n",
        "add_animals(ramat_gan_safari,\"Grenouille\")\n",
        "get_animals(ramat_gan_safari)\n",
        "sort_animals(ramat_gan_safari)\n",
        "animal_groups=sort_animals(ramat_gan_safari)\n",
        "get_groups(animal_groups)"
      ]
    }
  ],
  "metadata": {
    "colab": {
      "provenance": []
    },
    "kernelspec": {
      "display_name": "Python 3",
      "name": "python3"
    },
    "language_info": {
      "codemirror_mode": {
        "name": "ipython",
        "version": 3
      },
      "file_extension": ".py",
      "mimetype": "text/x-python",
      "name": "python",
      "nbconvert_exporter": "python",
      "pygments_lexer": "ipython3",
      "version": "3.13.2"
    }
  },
  "nbformat": 4,
  "nbformat_minor": 0
}
