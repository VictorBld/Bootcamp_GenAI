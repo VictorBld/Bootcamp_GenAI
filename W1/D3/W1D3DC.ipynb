{
  "nbformat": 4,
  "nbformat_minor": 0,
  "metadata": {
    "colab": {
      "provenance": []
    },
    "kernelspec": {
      "name": "python3",
      "display_name": "Python 3"
    },
    "language_info": {
      "name": "python"
    }
  },
  "cells": [
    {
      "cell_type": "code",
      "execution_count": null,
      "metadata": {
        "id": "aN6Q1HmVqzK_"
      },
      "outputs": [],
      "source": [
        "class Farm():\n",
        "  def __init__(self, name):\n",
        "    self.name = name\n",
        "    self.animals = {}\n",
        "\n",
        "  def add_animal(self, animal,num):\n",
        "    if animal not in self.animals:\n",
        "      self.animals[animal]=num\n",
        "\n",
        "  def get_info(self):\n",
        "    print(f\"{self.name}'s Farm\")\n",
        "    for animal,num in self.animals.items():\n",
        "      print(f\"{animal}:{num}\")\n",
        "    print(\"    E-I-E-I-0!\")\n",
        "\n",
        "  def get_animals_type(animals):\n",
        "    d=animals.keys()\n",
        "    print(list(d))\n",
        "\n",
        "  def get_short_info(self):\n",
        "    animal_types = get_animal_types(macdonald.animals)\n",
        "    animal_string = \", \".join(animal_types)\n",
        "    return f\"{self.name}’s farm has {animal_string}.\"\n",
        "\n"
      ]
    },
    {
      "cell_type": "code",
      "source": [
        "macdonald = Farm(\"McDonald\")\n",
        "macdonald.add_animal('cow',5)\n",
        "macdonald.add_animal('sheep',2)\n",
        "macdonald.add_animal('goat', 12)\n",
        "macdonald.get_info()"
      ],
      "metadata": {
        "colab": {
          "base_uri": "https://localhost:8080/"
        },
        "id": "o6ku1W2YtAhU",
        "outputId": "7b80a1d5-136b-445b-a9ca-dd3ca5b0b01e"
      },
      "execution_count": null,
      "outputs": [
        {
          "output_type": "stream",
          "name": "stdout",
          "text": [
            "McDonald's Farm\n",
            "cow:5\n",
            "sheep:2\n",
            "goat:12\n",
            "    E-I-E-I-0!\n"
          ]
        }
      ]
    },
    {
      "cell_type": "code",
      "source": [
        "def get_animals_type(animals):\n",
        "  d=animals.keys()\n",
        "  return(list(d))\n",
        "get_animals_type(macdonald.animals)\n",
        "\n",
        "def get_short_info(self):\n",
        "    animal_types = get_animals_type(self.animals)\n",
        "    animal_string = \", \".join(animal_types)\n",
        "    return f\"{self.name}’s farm has {animal_string}.\"\n",
        "\n",
        "get_short_info(macdonald)\n",
        "\n"
      ],
      "metadata": {
        "colab": {
          "base_uri": "https://localhost:8080/",
          "height": 36
        },
        "id": "2stkc4gIwZeY",
        "outputId": "6a80e427-f282-4196-dfd0-28eb71488e0e"
      },
      "execution_count": null,
      "outputs": [
        {
          "output_type": "execute_result",
          "data": {
            "text/plain": [
              "'McDonald’s farm has cow, sheep, goat.'"
            ],
            "application/vnd.google.colaboratory.intrinsic+json": {
              "type": "string"
            }
          },
          "metadata": {},
          "execution_count": 48
        }
      ]
    }
  ]
}