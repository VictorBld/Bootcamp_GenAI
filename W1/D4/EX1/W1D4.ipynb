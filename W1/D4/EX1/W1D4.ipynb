{
  "nbformat": 4,
  "nbformat_minor": 0,
  "metadata": {
    "colab": {
      "provenance": []
    },
    "kernelspec": {
      "name": "python3",
      "display_name": "Python 3"
    },
    "language_info": {
      "name": "python"
    }
  },
  "cells": [
    {
      "cell_type": "code",
      "execution_count": null,
      "metadata": {
        "id": "NXqePKBuWJZ9"
      },
      "outputs": [],
      "source": [
        "class Pets():\n",
        "    def __init__(self, animals):\n",
        "        self.animals = animals\n",
        "\n",
        "    def walk(self):\n",
        "        for animal in self.animals:\n",
        "            print(animal.walk())\n",
        "\n",
        "class Cat():\n",
        "    is_lazy = True\n",
        "\n",
        "    def __init__(self, name, age):\n",
        "        self.name = name\n",
        "        self.age = age\n",
        "\n",
        "    def walk(self):\n",
        "        return f'{self.name} is just walking around'\n",
        "\n",
        "class Bengal(Cat):\n",
        "    def sing(self, sounds):\n",
        "        return f'{sounds}'\n",
        "\n",
        "class Chartreux(Cat):\n",
        "    def sing(self, sounds):\n",
        "        return f'{sounds}'\n",
        "\n",
        "class Siamese(Cat):\n",
        "    def sing(self, sounds):\n",
        "        return f'{sounds}'\n",
        "\n"
      ]
    },
    {
      "cell_type": "code",
      "source": [
        "first_cat= Siamese(\"Félix\",12)\n",
        "second_cat= Bengal(\"Féline\",10)\n",
        "third_cat= Chartreux(\"Garfield\",8)\n",
        "\n",
        "all_cats=[first_cat,second_cat,third_cat]\n",
        "sara_pets=Pets(all_cats)\n",
        "\n",
        "\n",
        "sara_pets.walk()"
      ],
      "metadata": {
        "colab": {
          "base_uri": "https://localhost:8080/"
        },
        "id": "NrtM9e24X2rt",
        "outputId": "c7061105-4491-4ec7-debf-69d5619f6a3e"
      },
      "execution_count": null,
      "outputs": [
        {
          "output_type": "stream",
          "name": "stdout",
          "text": [
            "Félix is just walking around\n",
            "Féline is just walking around\n",
            "Garfield is just walking around\n"
          ]
        }
      ]
    },
    {
      "cell_type": "code",
      "source": [
        "class Dog():\n",
        "    def __init__(self, name, age, weight):\n",
        "      self.name= name\n",
        "      self.age= age\n",
        "      self.weight= weight\n",
        "\n",
        "    def bark(self):\n",
        "      return f'{self.name} is barking'\n",
        "\n",
        "    def run_speed(self):\n",
        "      speed= self.weight / self.age * 10\n",
        "      return f'{self.name} has {speed} miles/hour speed'\n",
        "\n",
        "    def fight(self, other_dog):\n",
        "      power_un= self.weight * self.run_speed()\n",
        "      power_other= other_dog.weight * other_dog.run_speed()\n",
        "      if power_un > power_other:\n",
        "        return f'{self.name} won the fight'\n",
        "      else:\n",
        "        return f'{other_dog.name} won the fight'\n",
        "\n",
        "\n",
        "first_dog= Dog(\"Django\", 12, 8)\n",
        "second_dog=Dog(\"Jimmy\", 7,10)\n",
        "third_dog=Dog(\"Ralph\", 10,15)\n",
        "\n",
        "first_dog.bark()\n",
        "first_dog.run_speed()\n",
        "first_dog.fight(second_dog)\n",
        "second_dog.fight(third_dog)"
      ],
      "metadata": {
        "colab": {
          "base_uri": "https://localhost:8080/",
          "height": 36
        },
        "id": "McWvhjF1ZDyC",
        "outputId": "fe5803ec-e9ee-4783-c505-412c27afa627"
      },
      "execution_count": null,
      "outputs": [
        {
          "output_type": "execute_result",
          "data": {
            "text/plain": [
              "'Ralph won the fight'"
            ],
            "application/vnd.google.colaboratory.intrinsic+json": {
              "type": "string"
            }
          },
          "metadata": {},
          "execution_count": 23
        }
      ]
    },
    {
      "cell_type": "markdown",
      "source": [
        "EX 3 CF W1D4bis"
      ],
      "metadata": {
        "id": "uf1poeIhpxBX"
      }
    },
    {
      "cell_type": "code",
      "source": [
        "class Family():\n",
        "  def __init__(self, last_name):\n",
        "    self.members= []\n",
        "    self.last_name= last_name\n",
        "\n",
        "  def born(self,**kwargs):\n",
        "    self.members.append(kwargs)\n",
        "    print(f\"Congratulations to the {self.last_name} family\")\n",
        "\n",
        "  def is_18(self,name):\n",
        "    for member in self.members:\n",
        "      if member[\"name\"] == name:\n",
        "        return member[\"age\"] >= 18\n",
        "    return False\n",
        "\n",
        "  def family_presentation(self):\n",
        "    print(f\"Family Name: {self.last_name}\")\n",
        "    for member in self.members:\n",
        "      print(f\"  Name: {member['name']}, Age: {member['age']}, Gender: {member['gender']}, is_18 : {self.is_18(member['name'])}\")\n",
        "\n",
        "\n",
        "my_family = Family(\"Smith\")\n",
        "members = [\n",
        "        {'name':'Michael','age':35,'gender':'Male','is_18':True},\n",
        "        {'name':'Sarah','age':32,'gender':'Female','is_18':True}\n",
        "    ]\n",
        "my_family.members.append(members[0])\n",
        "my_family.members.append(members[1])\n",
        "\n",
        "new_born={'name':'John','age':1,'gender':'Male','is_18':False}\n",
        "my_family.born(**new_born)\n",
        "\n",
        "print(my_family.members)\n",
        "my_family.family_presentation()\n",
        "\n",
        "\n",
        "\n"
      ],
      "metadata": {
        "colab": {
          "base_uri": "https://localhost:8080/"
        },
        "id": "pL6vY32Gp1Ur",
        "outputId": "81a212e7-d369-4e5d-d669-48e207b85db0"
      },
      "execution_count": 31,
      "outputs": [
        {
          "output_type": "stream",
          "name": "stdout",
          "text": [
            "Congratulations to the Smith family\n",
            "[{'name': 'Michael', 'age': 35, 'gender': 'Male', 'is_18': True}, {'name': 'Sarah', 'age': 32, 'gender': 'Female', 'is_18': True}, {'name': 'John', 'age': 1, 'gender': 'Male', 'is_18': False}]\n",
            "Family Name: Smith\n",
            "  Name: Michael, Age: 35, Gender: Male, is_18 : True\n",
            "  Name: Sarah, Age: 32, Gender: Female, is_18 : True\n",
            "  Name: John, Age: 1, Gender: Male, is_18 : False\n"
          ]
        }
      ]
    }
  ]
}