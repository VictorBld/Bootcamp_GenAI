{
  "cells": [
    {
      "cell_type": "code",
      "execution_count": 60,
      "metadata": {
        "id": "774td_Bog7q8"
      },
      "outputs": [],
      "source": [
        "from w1d4 import Dog\n",
        "import random\n",
        "\n",
        "class PetDog(Dog):\n",
        "  def __init__(self,dog,trained=False):\n",
        "    super().__init__(dog.name, dog.age, dog.weight)\n",
        "    self.trained=trained\n",
        "\n",
        "  def train(self):\n",
        "    self.trained=True\n",
        "    print(self.bark())\n",
        "\n",
        "  def play(*args):\n",
        "    dog_names = [dog.name for dog in args]\n",
        "    print(f\"{', '.join(dog_names)} all played together \")\n",
        "\n",
        "  def do_a_trick(self):\n",
        "    if self.trained==True:\n",
        "      i=random.randint(1,4)\n",
        "      if i ==1:\n",
        "        print(f\"{self.name} does a barrel roll\")\n",
        "      if i ==2:\n",
        "        print(f\"{self.name} stand on his back legs\")\n",
        "      if i ==3:\n",
        "        print(f\"{self.name} shakes your hand\")\n",
        "      if i ==4:\n",
        "        print(f\"{self.name} plays dead\")\n",
        "\n",
        "first_dog= Dog(\"Django\", 12, 8)\n",
        "second_dog=Dog(\"Jimmy\", 7,10)\n",
        "third_dog=Dog(\"Ralph\", 10,15)\n"
      ]
    },
    {
      "cell_type": "code",
      "execution_count": 61,
      "metadata": {
        "colab": {
          "base_uri": "https://localhost:8080/"
        },
        "id": "OD3LjUQYjz-k",
        "outputId": "88d3d93f-bf57-4afd-dbda-5b58be1ffe54"
      },
      "outputs": [
        {
          "name": "stdout",
          "output_type": "stream",
          "text": [
            "Django is barking\n",
            "Django, Jimmy all played together \n",
            "Django plays dead\n"
          ]
        }
      ],
      "source": [
        "first_dog=PetDog(first_dog)\n",
        "\n",
        "first_dog.train()\n",
        "first_dog.play(second_dog)\n",
        "first_dog.do_a_trick()"
      ]
    },
    {
      "cell_type": "code",
      "execution_count": 2,
      "metadata": {
        "colab": {
          "base_uri": "https://localhost:8080/",
          "height": 219
        },
        "id": "BuapONRQxUYb",
        "outputId": "7db4622a-8a9f-46f8-f75d-8741809068cd"
      },
      "outputs": [
        {
          "name": "stdout",
          "output_type": "stream",
          "text": [
            "Congratulations to the Incredibles family\n",
            "Congratulations to the Incredibles family\n",
            "\u001b[1m Here is our powerfull family Incredibles\u001b[0m\n",
            "Family Name: Incredibles\n",
            "  Name: Michael, Age: 35, Gender: Male, is_18 : True, Power: fly, Incredible Name: MikeFly\n",
            "  Name: Sarah, Age: 32, Gender: Female, is_18 : True, Power: read minds, Incredible Name: SuperWoman\n",
            "Congratulations to the Incredibles family\n",
            "\u001b[1m Here is our powerfull family Incredibles\u001b[0m\n",
            "Family Name: Incredibles\n",
            "  Name: Michael, Age: 35, Gender: Male, is_18 : True, Power: fly, Incredible Name: MikeFly\n",
            "  Name: Sarah, Age: 32, Gender: Female, is_18 : True, Power: read minds, Incredible Name: SuperWoman\n",
            "  Name: Jack, Age: 1, Gender: Male, is_18 : True, Power: Unknown power, Incredible Name: \n",
            "MikeFly is using their power: fly\n"
          ]
        },
        {
          "ename": "Exception",
          "evalue": "Jack is not over 18 years old",
          "output_type": "error",
          "traceback": [
            "\u001b[1;31m---------------------------------------------------------------------------\u001b[0m",
            "\u001b[1;31mException\u001b[0m                                 Traceback (most recent call last)",
            "Cell \u001b[1;32mIn[2], line 34\u001b[0m\n\u001b[0;32m     31\u001b[0m incredible_family\u001b[38;5;241m.\u001b[39mincredible_presentation()\n\u001b[0;32m     33\u001b[0m incredible_family\u001b[38;5;241m.\u001b[39muse_power(\u001b[38;5;124m\"\u001b[39m\u001b[38;5;124mMichael\u001b[39m\u001b[38;5;124m\"\u001b[39m)\n\u001b[1;32m---> 34\u001b[0m \u001b[43mincredible_family\u001b[49m\u001b[38;5;241;43m.\u001b[39;49m\u001b[43muse_power\u001b[49m\u001b[43m(\u001b[49m\u001b[38;5;124;43m\"\u001b[39;49m\u001b[38;5;124;43mJack\u001b[39;49m\u001b[38;5;124;43m\"\u001b[39;49m\u001b[43m)\u001b[49m\n",
            "Cell \u001b[1;32mIn[2], line 12\u001b[0m, in \u001b[0;36mTheIncredibles.use_power\u001b[1;34m(self, name)\u001b[0m\n\u001b[0;32m     10\u001b[0m             \u001b[38;5;28mprint\u001b[39m(\u001b[38;5;124mf\u001b[39m\u001b[38;5;124m\"\u001b[39m\u001b[38;5;132;01m{\u001b[39;00mmember[\u001b[38;5;124m'\u001b[39m\u001b[38;5;124mincredible_name\u001b[39m\u001b[38;5;124m'\u001b[39m]\u001b[38;5;132;01m}\u001b[39;00m\u001b[38;5;124m is using their power: \u001b[39m\u001b[38;5;132;01m{\u001b[39;00mmember[\u001b[38;5;124m'\u001b[39m\u001b[38;5;124mpower\u001b[39m\u001b[38;5;124m'\u001b[39m]\u001b[38;5;132;01m}\u001b[39;00m\u001b[38;5;124m\"\u001b[39m)\n\u001b[0;32m     11\u001b[0m         \u001b[38;5;28;01melse\u001b[39;00m:\n\u001b[1;32m---> 12\u001b[0m             \u001b[38;5;28;01mraise\u001b[39;00m \u001b[38;5;167;01mException\u001b[39;00m(\u001b[38;5;124mf\u001b[39m\u001b[38;5;124m\"\u001b[39m\u001b[38;5;132;01m{\u001b[39;00mmember[\u001b[38;5;124m'\u001b[39m\u001b[38;5;124mname\u001b[39m\u001b[38;5;124m'\u001b[39m]\u001b[38;5;132;01m}\u001b[39;00m\u001b[38;5;124m is not over 18 years old\u001b[39m\u001b[38;5;124m\"\u001b[39m)\n\u001b[0;32m     13\u001b[0m         \u001b[38;5;28;01mreturn\u001b[39;00m\n\u001b[0;32m     14\u001b[0m \u001b[38;5;28mprint\u001b[39m(\u001b[38;5;124mf\u001b[39m\u001b[38;5;124m\"\u001b[39m\u001b[38;5;124mNo family member found with the name \u001b[39m\u001b[38;5;132;01m{\u001b[39;00mname\u001b[38;5;132;01m}\u001b[39;00m\u001b[38;5;124m\"\u001b[39m)\n",
            "\u001b[1;31mException\u001b[0m: Jack is not over 18 years old"
          ]
        }
      ],
      "source": [
        "from w1d4 import Family\n",
        "class TheIncredibles(Family):\n",
        "    def __init__(self, last_name):\n",
        "        super().__init__(last_name)\n",
        "\n",
        "    def use_power(self, name):\n",
        "        for member in self.members:\n",
        "            if member[\"name\"] == name:\n",
        "                if member[\"age\"] >= 18:\n",
        "                    print(f\"{member['incredible_name']} is using their power: {member['power']}\")\n",
        "                else:\n",
        "                    raise Exception(f\"{member['name']} is not over 18 years old\")\n",
        "                return\n",
        "        print(f\"No family member found with the name {name}\")\n",
        "\n",
        "    def incredible_presentation(self):\n",
        "        print(f\"\\033[1m Here is our powerfull family {self.last_name}\\033[0m\")\n",
        "        print(f\"Family Name: {self.last_name}\")\n",
        "        for member in self.members:\n",
        "            print(f\"  Name: {member['name']}, Age: {member['age']}, Gender: {member['gender']}, is_18 : {self.is_18(member['name'])}, Power: {member['power']}, Incredible Name: {member['incredible_name']}\")\n",
        "\n",
        "\n",
        "\n",
        "incredible_family = TheIncredibles(\"Incredibles\")\n",
        "incredible_family.born(name=\"Michael\", age=35, gender=\"Male\", power=\"fly\", incredible_name=\"MikeFly\")\n",
        "incredible_family.born(name=\"Sarah\", age=32, gender=\"Female\", power=\"read minds\", incredible_name=\"SuperWoman\")\n",
        "\n",
        "incredible_family.incredible_presentation()\n",
        "\n",
        "incredible_family.born(name=\"Jack\", age=1, gender=\"Male\", power=\"Unknown power\", incredible_name=\"\")\n",
        "incredible_family.incredible_presentation()\n",
        "\n",
        "incredible_family.use_power(\"Michael\")\n",
        "incredible_family.use_power(\"Jack\")\n"
      ]
    }
  ],
  "metadata": {
    "colab": {
      "provenance": []
    },
    "kernelspec": {
      "display_name": "Python 3",
      "name": "python3"
    },
    "language_info": {
      "codemirror_mode": {
        "name": "ipython",
        "version": 3
      },
      "file_extension": ".py",
      "mimetype": "text/x-python",
      "name": "python",
      "nbconvert_exporter": "python",
      "pygments_lexer": "ipython3",
      "version": "3.13.2"
    }
  },
  "nbformat": 4,
  "nbformat_minor": 0
}
