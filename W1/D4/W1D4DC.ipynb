{
  "nbformat": 4,
  "nbformat_minor": 0,
  "metadata": {
    "colab": {
      "provenance": []
    },
    "kernelspec": {
      "name": "python3",
      "display_name": "Python 3"
    },
    "language_info": {
      "name": "python"
    }
  },
  "cells": [
    {
      "cell_type": "code",
      "execution_count": 35,
      "metadata": {
        "colab": {
          "base_uri": "https://localhost:8080/"
        },
        "id": "-DiN--8_BhOE",
        "outputId": "289bc376-489c-407f-f7c0-f04a2569181a"
      },
      "outputs": [
        {
          "output_type": "stream",
          "name": "stdout",
          "text": [
            "['a', 'b', 'c', 'd']\n",
            "['e', 'f', 'g', 'h']\n",
            "['y', 'z']\n",
            "['i', 'j', 'k', 'l']\n"
          ]
        }
      ],
      "source": [
        "class Pagination():\n",
        "  def __init__(self, items=None, pageSize=10):\n",
        "    self.pageSize = pageSize\n",
        "    self.items = items\n",
        "    self.page=1\n",
        "\n",
        "  def getVisibleItems(self):\n",
        "    start = (self.page - 1) * self.pageSize\n",
        "    end = start + self.pageSize\n",
        "    print(self.items[start:end])\n",
        "\n",
        "  def prevPage(self):\n",
        "    self.page -= 1\n",
        "\n",
        "  def nextPage(self):\n",
        "     self.page += 1\n",
        "\n",
        "  def lastPage(self):\n",
        "    self.page=len(self.items) // self.pageSize + 1\n",
        "\n",
        "  def firstpage(self):\n",
        "    self.page= 1\n",
        "\n",
        "  def go_to_page(self, page):\n",
        "    self.page=page\n",
        "\n",
        "\n",
        "alphabetList = list(\"abcdefghijklmnopqrstuvwxyz\")\n",
        "\n",
        "p = Pagination(alphabetList, 4)\n",
        "\n",
        "p.getVisibleItems()\n",
        "# [\"a\", \"b\", \"c\", \"d\"]\n",
        "\n",
        "p.nextPage()\n",
        "\n",
        "p.getVisibleItems()\n",
        "# [\"e\", \"f\", \"g\", \"h\"]\n",
        "\n",
        "p.lastPage()\n",
        "\n",
        "p.getVisibleItems()\n",
        "\n",
        "p.go_to_page(3)\n",
        "p.getVisibleItems()"
      ]
    }
  ]
}