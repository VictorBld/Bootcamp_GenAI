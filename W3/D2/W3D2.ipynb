{
  "nbformat": 4,
  "nbformat_minor": 0,
  "metadata": {
    "colab": {
      "provenance": []
    },
    "kernelspec": {
      "name": "python3",
      "display_name": "Python 3"
    },
    "language_info": {
      "name": "python"
    }
  },
  "cells": [
    {
      "cell_type": "code",
      "execution_count": null,
      "metadata": {
        "colab": {
          "base_uri": "https://localhost:8080/"
        },
        "id": "iN7HbaHTT8h3",
        "outputId": "d0ba7419-432c-4ba1-a171-81036ab7823d"
      },
      "outputs": [
        {
          "output_type": "execute_result",
          "data": {
            "text/plain": [
              "array([[0.32798517, 0.9814033 , 0.58991943],\n",
              "       [0.54181662, 0.60259838, 0.62649562],\n",
              "       [0.63743263, 0.44179715, 0.48179677]])"
            ]
          },
          "metadata": {},
          "execution_count": 8
        }
      ],
      "source": [
        "import numpy as np\n",
        "\n",
        "array=np.random.rand(3,3)\n",
        "array"
      ]
    },
    {
      "cell_type": "code",
      "source": [
        "determinant = np.linalg.det(array)\n",
        "determinant\n"
      ],
      "metadata": {
        "colab": {
          "base_uri": "https://localhost:8080/"
        },
        "id": "5jJKof9vUoRY",
        "outputId": "5f97bfad-7e38-42bf-8301-628b58b53aee"
      },
      "execution_count": null,
      "outputs": [
        {
          "output_type": "execute_result",
          "data": {
            "text/plain": [
              "0.05478753879271343"
            ]
          },
          "metadata": {},
          "execution_count": 9
        }
      ]
    },
    {
      "cell_type": "code",
      "source": [
        "if determinant != 0:\n",
        "  inverse_array = np.linalg.inv(array)\n",
        "  print(inverse_array)\n",
        "else:\n",
        "  print(\"The matrix is singular and does not have an inverse.\")"
      ],
      "metadata": {
        "colab": {
          "base_uri": "https://localhost:8080/"
        },
        "id": "2LGIZnKCVlQW",
        "outputId": "b8496d79-3758-4f60-9875-06e5a101111e"
      },
      "execution_count": null,
      "outputs": [
        {
          "output_type": "stream",
          "name": "stdout",
          "text": [
            "[[ 0.24724558 -3.87336656  4.73393003]\n",
            " [ 2.52435604 -3.97922058  2.08344605]\n",
            " [-2.64189337  8.7734472  -6.09805249]]\n"
          ]
        }
      ]
    },
    {
      "cell_type": "code",
      "source": [
        "matrice=np.random.randint(50,size=(1,50))\n",
        "matrice"
      ],
      "metadata": {
        "colab": {
          "base_uri": "https://localhost:8080/"
        },
        "id": "qVYXytY5WiZ-",
        "outputId": "b088f93f-80e9-401c-854f-85bbf35af6d2"
      },
      "execution_count": null,
      "outputs": [
        {
          "output_type": "execute_result",
          "data": {
            "text/plain": [
              "array([[22,  0, 47,  5, 21, 40, 38, 40,  0, 16, 48,  1, 15, 10, 13, 22,\n",
              "        37, 33, 33,  1, 43, 41, 33, 21, 11, 43, 21,  6, 36, 32,  9, 19,\n",
              "        39, 13, 37, 45, 26, 36, 11,  3, 41, 45, 40, 25,  2, 41, 17, 27,\n",
              "         5, 46]])"
            ]
          },
          "metadata": {},
          "execution_count": 17
        }
      ]
    },
    {
      "cell_type": "code",
      "source": [
        "average = np.mean(matrice)\n",
        "average"
      ],
      "metadata": {
        "colab": {
          "base_uri": "https://localhost:8080/"
        },
        "id": "0yAC8r49XcdP",
        "outputId": "9c59bfa3-ceb3-49cc-bfd0-ecfbf26a6f82"
      },
      "execution_count": null,
      "outputs": [
        {
          "output_type": "execute_result",
          "data": {
            "text/plain": [
              "25.12"
            ]
          },
          "metadata": {},
          "execution_count": 18
        }
      ]
    },
    {
      "cell_type": "code",
      "source": [
        "median=np.median(matrice)\n",
        "median"
      ],
      "metadata": {
        "colab": {
          "base_uri": "https://localhost:8080/"
        },
        "id": "hxLxaJc6Xft2",
        "outputId": "c8dfc7bb-7c4b-41f3-a97f-ebd3fabeb26c"
      },
      "execution_count": null,
      "outputs": [
        {
          "output_type": "execute_result",
          "data": {
            "text/plain": [
              "25.5"
            ]
          },
          "metadata": {},
          "execution_count": 19
        }
      ]
    },
    {
      "cell_type": "code",
      "source": [
        "std = np.std(matrice)\n",
        "std\n"
      ],
      "metadata": {
        "colab": {
          "base_uri": "https://localhost:8080/"
        },
        "id": "W3m43rU8XsTl",
        "outputId": "61a56de1-05e1-4bbb-bcdf-4cc3b8489670"
      },
      "execution_count": null,
      "outputs": [
        {
          "output_type": "execute_result",
          "data": {
            "text/plain": [
              "15.211364172880746"
            ]
          },
          "metadata": {},
          "execution_count": 20
        }
      ]
    },
    {
      "cell_type": "code",
      "source": [
        "dates = np.arange('2023-01-01', '2023-02-01', dtype='datetime64[D]')\n",
        "\n",
        "dates\n"
      ],
      "metadata": {
        "colab": {
          "base_uri": "https://localhost:8080/"
        },
        "id": "ZIvkT47Fba_6",
        "outputId": "3a7f5f48-96ad-425c-c0b4-b5213f6fff9f"
      },
      "execution_count": null,
      "outputs": [
        {
          "output_type": "execute_result",
          "data": {
            "text/plain": [
              "array(['2023-01-01', '2023-01-02', '2023-01-03', '2023-01-04',\n",
              "       '2023-01-05', '2023-01-06', '2023-01-07', '2023-01-08',\n",
              "       '2023-01-09', '2023-01-10', '2023-01-11', '2023-01-12',\n",
              "       '2023-01-13', '2023-01-14', '2023-01-15', '2023-01-16',\n",
              "       '2023-01-17', '2023-01-18', '2023-01-19', '2023-01-20',\n",
              "       '2023-01-21', '2023-01-22', '2023-01-23', '2023-01-24',\n",
              "       '2023-01-25', '2023-01-26', '2023-01-27', '2023-01-28',\n",
              "       '2023-01-29', '2023-01-30', '2023-01-31'], dtype='datetime64[D]')"
            ]
          },
          "metadata": {},
          "execution_count": 24
        }
      ]
    },
    {
      "cell_type": "code",
      "source": [
        "formatted_dates = [str(date).replace('-', '/') for date in dates]\n",
        "\n",
        "formatted_dates\n"
      ],
      "metadata": {
        "colab": {
          "base_uri": "https://localhost:8080/"
        },
        "id": "dNQ0uvwob1Hp",
        "outputId": "49098dfb-9079-4ac9-f86c-30184163718a"
      },
      "execution_count": null,
      "outputs": [
        {
          "output_type": "execute_result",
          "data": {
            "text/plain": [
              "['2023/01/01',\n",
              " '2023/01/02',\n",
              " '2023/01/03',\n",
              " '2023/01/04',\n",
              " '2023/01/05',\n",
              " '2023/01/06',\n",
              " '2023/01/07',\n",
              " '2023/01/08',\n",
              " '2023/01/09',\n",
              " '2023/01/10',\n",
              " '2023/01/11',\n",
              " '2023/01/12',\n",
              " '2023/01/13',\n",
              " '2023/01/14',\n",
              " '2023/01/15',\n",
              " '2023/01/16',\n",
              " '2023/01/17',\n",
              " '2023/01/18',\n",
              " '2023/01/19',\n",
              " '2023/01/20',\n",
              " '2023/01/21',\n",
              " '2023/01/22',\n",
              " '2023/01/23',\n",
              " '2023/01/24',\n",
              " '2023/01/25',\n",
              " '2023/01/26',\n",
              " '2023/01/27',\n",
              " '2023/01/28',\n",
              " '2023/01/29',\n",
              " '2023/01/30',\n",
              " '2023/01/31']"
            ]
          },
          "metadata": {},
          "execution_count": 25
        }
      ]
    },
    {
      "cell_type": "code",
      "source": [
        "import pandas as pd\n",
        "data = {'col1': np.random.rand(10),\n",
        "        'col2': np.random.randint(0, 100, 10),\n",
        "        'col3': np.random.choice(['A', 'B', 'C'], 10)}\n",
        "df = pd.DataFrame(data)\n",
        "\n",
        "# Conditional selection of data\n",
        "\n",
        "selected_rows = df[df['col2'] > 25]\n",
        "print(\"Selected Rows:\\n\", selected_rows)\n",
        "\n",
        "# Aggregation functions\n",
        "col1_sum = df['col1'].sum()\n",
        "print(\"\\nSum of 'col1':\", col1_sum)\n",
        "\n",
        "col2_avg = df['col2'].mean()\n",
        "print(\"\\nAverage of 'col2':\", col2_avg)\n"
      ],
      "metadata": {
        "colab": {
          "base_uri": "https://localhost:8080/"
        },
        "id": "I2GxcunJcAet",
        "outputId": "f1b285a9-f824-442d-e157-f1c6330cc306"
      },
      "execution_count": null,
      "outputs": [
        {
          "output_type": "stream",
          "name": "stdout",
          "text": [
            "Selected Rows:\n",
            "        col1  col2 col3\n",
            "0  0.455336    93    B\n",
            "1  0.834599    73    A\n",
            "2  0.794722    36    B\n",
            "3  0.352822    68    C\n",
            "4  0.012934    40    A\n",
            "5  0.909571    90    A\n",
            "6  0.354383    31    A\n",
            "7  0.795990    31    C\n",
            "8  0.866200    43    A\n",
            "9  0.823195    75    B\n",
            "\n",
            "Sum of 'col1': 6.199750260413481\n",
            "\n",
            "Average of 'col2': 58.0\n"
          ]
        }
      ]
    },
    {
      "cell_type": "code",
      "source": [
        "# Create a 5x5 grayscale image represented as a NumPy array\n",
        "# Each element in the array represents the pixel intensity (0-255)\n",
        "grayscale_image = np.zeros((5, 5), dtype=np.uint8)\n",
        "\n",
        "# Set some pixel values for demonstration\n",
        "grayscale_image[0, 0] = 255  # White pixel at top-left corner\n",
        "grayscale_image[1, 1] = 128  # Gray pixel\n",
        "grayscale_image[2, 2] = 0   # Black pixel\n",
        "grayscale_image[4,4] = 64\n",
        "\n",
        "grayscale_image\n"
      ],
      "metadata": {
        "colab": {
          "base_uri": "https://localhost:8080/"
        },
        "id": "J6kU8nmodiOY",
        "outputId": "0721d0ce-a25c-4c87-ba81-84fcdf6cd52f"
      },
      "execution_count": null,
      "outputs": [
        {
          "output_type": "execute_result",
          "data": {
            "text/plain": [
              "array([[255,   0,   0,   0,   0],\n",
              "       [  0, 128,   0,   0,   0],\n",
              "       [  0,   0,   0,   0,   0],\n",
              "       [  0,   0,   0,   0,   0],\n",
              "       [  0,   0,   0,   0,  64]], dtype=uint8)"
            ]
          },
          "metadata": {},
          "execution_count": 27
        }
      ]
    },
    {
      "cell_type": "code",
      "source": [
        "import numpy as np\n",
        "\n",
        "# Productivity scores of employees before the training program\n",
        "productivity_before = np.random.normal(loc=50, scale=10, size=30)\n",
        "\n",
        "# Productivity scores of the same employees after the training program\n",
        "productivity_after = productivity_before + np.random.normal(loc=5, scale=3, size=30)\n",
        "\n",
        "# Your task is to formulate a hypothesis regarding the training program's effectiveness\n",
        "# and test it using basic statistical functions in NumPy."
      ],
      "metadata": {
        "id": "EaB1nTvmht4b"
      },
      "execution_count": null,
      "outputs": []
    },
    {
      "cell_type": "code",
      "source": [
        "# Hypothesis: The training program will result in a statistically significant increase in employee productivity.\n",
        "\n",
        "# Calculate the difference in productivity scores before and after the training.\n",
        "productivity_difference = productivity_after - productivity_before\n",
        "\n",
        "# Calculate the mean difference in productivity.\n",
        "mean_difference = np.mean(productivity_difference)\n",
        "print(\"Mean difference in productivity:\", mean_difference)\n",
        "\n",
        "# Calculate the standard deviation of the difference in productivity.\n",
        "std_difference = np.std(productivity_difference)\n",
        "print(\"Standard deviation of the difference:\", std_difference)\n",
        "\n",
        "# Perform a t-test to determine statistical significance.\n",
        "from scipy import stats\n",
        "\n",
        "t_statistic, p_value = stats.ttest_rel(productivity_after, productivity_before)\n",
        "\n",
        "print(\"T-statistic:\", t_statistic)\n",
        "print(\"P-value:\", p_value)\n",
        "\n",
        "# Interpret the results.\n",
        "alpha = 0.05  # Significance level\n",
        "\n",
        "if p_value < alpha:\n",
        "    print(\"The training program resulted in a statistically significant increase in productivity.\")\n",
        "else:\n",
        "    print(\"The training program did not result in a statistically significant increase in productivity.\")"
      ],
      "metadata": {
        "colab": {
          "base_uri": "https://localhost:8080/"
        },
        "id": "lYmJZpWWiNcd",
        "outputId": "4ea32fbc-aabd-4630-f363-ac55107d8bfa"
      },
      "execution_count": null,
      "outputs": [
        {
          "output_type": "stream",
          "name": "stdout",
          "text": [
            "Mean difference in productivity: 6.077306192745505\n",
            "Standard deviation of the difference: 2.8598478804467358\n",
            "T-statistic: 11.443718966702995\n",
            "P-value: 2.8447161684281557e-12\n",
            "The training program resulted in a statistically significant increase in productivity.\n"
          ]
        }
      ]
    },
    {
      "cell_type": "code",
      "source": [
        "array1 = np.array([1, 5, 2, 8, 3])\n",
        "array2 = np.array([3, 2, 9, 1, 7])\n",
        "\n",
        "comparison_result = array1 > array2\n",
        "\n",
        "comparison_result\n"
      ],
      "metadata": {
        "colab": {
          "base_uri": "https://localhost:8080/"
        },
        "id": "DNz70HFYkePr",
        "outputId": "5f0a2ddc-0786-4489-c798-966dc3d4c26d"
      },
      "execution_count": null,
      "outputs": [
        {
          "output_type": "execute_result",
          "data": {
            "text/plain": [
              "array([False,  True, False,  True, False])"
            ]
          },
          "metadata": {},
          "execution_count": 31
        }
      ]
    },
    {
      "cell_type": "code",
      "source": [
        "date_rng = pd.date_range(start='1/1/2023', end='12/31/2023', freq='D')\n",
        "data = pd.DataFrame(date_rng, columns=['Date'])\n",
        "data['Value'] = np.random.randint(0, 100, size=(len(date_rng)))\n",
        "\n",
        "\n",
        "jan_to_mar = data[(data['Date'] >= '2023-01-01') & (data['Date'] <= '2023-03-31')]\n",
        "\n",
        "# April to June\n",
        "apr_to_jun = data[(data['Date'] >= '2023-04-01') & (data['Date'] <= '2023-06-30')]\n",
        "\n",
        "# July to September\n",
        "jul_to_sep = data[(data['Date'] >= '2023-07-01') & (data['Date'] <= '2023-09-30')]\n",
        "\n",
        "# October to December\n",
        "oct_to_dec = data[(data['Date'] >= '2023-10-01') & (data['Date'] <= '2023-12-31')]\n",
        "\n",
        "print(\"January to March:\\n\", jan_to_mar)\n",
        "print(\"\\nApril to June:\\n\", apr_to_jun)\n",
        "print(\"\\nJuly to September:\\n\", jul_to_sep)\n",
        "print(\"\\nOctober to December:\\n\", oct_to_dec)\n"
      ],
      "metadata": {
        "colab": {
          "base_uri": "https://localhost:8080/"
        },
        "id": "YC2H1QUuw4Hg",
        "outputId": "bee6129b-bfa8-4702-fd8d-caa9a606d64a"
      },
      "execution_count": null,
      "outputs": [
        {
          "output_type": "stream",
          "name": "stdout",
          "text": [
            "January to March:\n",
            "          Date  Value\n",
            "0  2023-01-01     85\n",
            "1  2023-01-02     54\n",
            "2  2023-01-03     11\n",
            "3  2023-01-04     95\n",
            "4  2023-01-05     24\n",
            "..        ...    ...\n",
            "85 2023-03-27     44\n",
            "86 2023-03-28     11\n",
            "87 2023-03-29      7\n",
            "88 2023-03-30     62\n",
            "89 2023-03-31     38\n",
            "\n",
            "[90 rows x 2 columns]\n",
            "\n",
            "April to June:\n",
            "           Date  Value\n",
            "90  2023-04-01     71\n",
            "91  2023-04-02     95\n",
            "92  2023-04-03      9\n",
            "93  2023-04-04     20\n",
            "94  2023-04-05     47\n",
            "..         ...    ...\n",
            "176 2023-06-26     93\n",
            "177 2023-06-27      3\n",
            "178 2023-06-28     50\n",
            "179 2023-06-29     15\n",
            "180 2023-06-30     60\n",
            "\n",
            "[91 rows x 2 columns]\n",
            "\n",
            "July to September:\n",
            "           Date  Value\n",
            "181 2023-07-01     29\n",
            "182 2023-07-02     11\n",
            "183 2023-07-03     72\n",
            "184 2023-07-04     45\n",
            "185 2023-07-05      0\n",
            "..         ...    ...\n",
            "268 2023-09-26     96\n",
            "269 2023-09-27     68\n",
            "270 2023-09-28     76\n",
            "271 2023-09-29     34\n",
            "272 2023-09-30     75\n",
            "\n",
            "[92 rows x 2 columns]\n",
            "\n",
            "October to December:\n",
            "           Date  Value\n",
            "273 2023-10-01     74\n",
            "274 2023-10-02     10\n",
            "275 2023-10-03     16\n",
            "276 2023-10-04     66\n",
            "277 2023-10-05     97\n",
            "..         ...    ...\n",
            "360 2023-12-27     38\n",
            "361 2023-12-28     76\n",
            "362 2023-12-29     54\n",
            "363 2023-12-30     40\n",
            "364 2023-12-31     87\n",
            "\n",
            "[92 rows x 2 columns]\n"
          ]
        }
      ]
    },
    {
      "cell_type": "code",
      "source": [
        "numpy_array = np.array([[1, 2, 3], [4, 5, 6], [7, 8, 9]])\n",
        "\n",
        "pandas_dataframe = pd.DataFrame(numpy_array, columns=['A', 'B', 'C'])\n",
        "print(\"DataFrame from NumPy array:\\n\", pandas_dataframe)\n",
        "\n",
        "numpy_array_from_df = pandas_dataframe.to_numpy()\n",
        "print(\"\\nNumPy array from DataFrame:\\n\", numpy_array_from_df)\n"
      ],
      "metadata": {
        "colab": {
          "base_uri": "https://localhost:8080/"
        },
        "id": "qM1FEo5VxcJC",
        "outputId": "ef2a4c69-5758-407d-efb0-496dff242a49"
      },
      "execution_count": null,
      "outputs": [
        {
          "output_type": "stream",
          "name": "stdout",
          "text": [
            "DataFrame from NumPy array:\n",
            "    A  B  C\n",
            "0  1  2  3\n",
            "1  4  5  6\n",
            "2  7  8  9\n",
            "\n",
            "NumPy array from DataFrame:\n",
            " [[1 2 3]\n",
            " [4 5 6]\n",
            " [7 8 9]]\n"
          ]
        }
      ]
    },
    {
      "cell_type": "code",
      "source": [
        "data = {'col1': np.random.randint(0, 100, 10),\n",
        "        'col2': np.random.choice(['A', 'B', 'C'], 10)}\n",
        "\n",
        "df = pd.DataFrame(data)\n",
        "\n",
        "df"
      ],
      "metadata": {
        "colab": {
          "base_uri": "https://localhost:8080/",
          "height": 363
        },
        "id": "2m4WbMNNxqqL",
        "outputId": "0572593b-97e8-483b-b0ae-39851699f4d8"
      },
      "execution_count": null,
      "outputs": [
        {
          "output_type": "execute_result",
          "data": {
            "text/plain": [
              "   col1 col2\n",
              "0    67    B\n",
              "1    84    C\n",
              "2    87    A\n",
              "3    28    B\n",
              "4    29    C\n",
              "5    14    C\n",
              "6    34    B\n",
              "7    36    C\n",
              "8    71    C\n",
              "9    74    A"
            ],
            "text/html": [
              "\n",
              "  <div id=\"df-c4a7470b-deb6-4b11-96e2-e193aa26986c\" class=\"colab-df-container\">\n",
              "    <div>\n",
              "<style scoped>\n",
              "    .dataframe tbody tr th:only-of-type {\n",
              "        vertical-align: middle;\n",
              "    }\n",
              "\n",
              "    .dataframe tbody tr th {\n",
              "        vertical-align: top;\n",
              "    }\n",
              "\n",
              "    .dataframe thead th {\n",
              "        text-align: right;\n",
              "    }\n",
              "</style>\n",
              "<table border=\"1\" class=\"dataframe\">\n",
              "  <thead>\n",
              "    <tr style=\"text-align: right;\">\n",
              "      <th></th>\n",
              "      <th>col1</th>\n",
              "      <th>col2</th>\n",
              "    </tr>\n",
              "  </thead>\n",
              "  <tbody>\n",
              "    <tr>\n",
              "      <th>0</th>\n",
              "      <td>67</td>\n",
              "      <td>B</td>\n",
              "    </tr>\n",
              "    <tr>\n",
              "      <th>1</th>\n",
              "      <td>84</td>\n",
              "      <td>C</td>\n",
              "    </tr>\n",
              "    <tr>\n",
              "      <th>2</th>\n",
              "      <td>87</td>\n",
              "      <td>A</td>\n",
              "    </tr>\n",
              "    <tr>\n",
              "      <th>3</th>\n",
              "      <td>28</td>\n",
              "      <td>B</td>\n",
              "    </tr>\n",
              "    <tr>\n",
              "      <th>4</th>\n",
              "      <td>29</td>\n",
              "      <td>C</td>\n",
              "    </tr>\n",
              "    <tr>\n",
              "      <th>5</th>\n",
              "      <td>14</td>\n",
              "      <td>C</td>\n",
              "    </tr>\n",
              "    <tr>\n",
              "      <th>6</th>\n",
              "      <td>34</td>\n",
              "      <td>B</td>\n",
              "    </tr>\n",
              "    <tr>\n",
              "      <th>7</th>\n",
              "      <td>36</td>\n",
              "      <td>C</td>\n",
              "    </tr>\n",
              "    <tr>\n",
              "      <th>8</th>\n",
              "      <td>71</td>\n",
              "      <td>C</td>\n",
              "    </tr>\n",
              "    <tr>\n",
              "      <th>9</th>\n",
              "      <td>74</td>\n",
              "      <td>A</td>\n",
              "    </tr>\n",
              "  </tbody>\n",
              "</table>\n",
              "</div>\n",
              "    <div class=\"colab-df-buttons\">\n",
              "\n",
              "  <div class=\"colab-df-container\">\n",
              "    <button class=\"colab-df-convert\" onclick=\"convertToInteractive('df-c4a7470b-deb6-4b11-96e2-e193aa26986c')\"\n",
              "            title=\"Convert this dataframe to an interactive table.\"\n",
              "            style=\"display:none;\">\n",
              "\n",
              "  <svg xmlns=\"http://www.w3.org/2000/svg\" height=\"24px\" viewBox=\"0 -960 960 960\">\n",
              "    <path d=\"M120-120v-720h720v720H120Zm60-500h600v-160H180v160Zm220 220h160v-160H400v160Zm0 220h160v-160H400v160ZM180-400h160v-160H180v160Zm440 0h160v-160H620v160ZM180-180h160v-160H180v160Zm440 0h160v-160H620v160Z\"/>\n",
              "  </svg>\n",
              "    </button>\n",
              "\n",
              "  <style>\n",
              "    .colab-df-container {\n",
              "      display:flex;\n",
              "      gap: 12px;\n",
              "    }\n",
              "\n",
              "    .colab-df-convert {\n",
              "      background-color: #E8F0FE;\n",
              "      border: none;\n",
              "      border-radius: 50%;\n",
              "      cursor: pointer;\n",
              "      display: none;\n",
              "      fill: #1967D2;\n",
              "      height: 32px;\n",
              "      padding: 0 0 0 0;\n",
              "      width: 32px;\n",
              "    }\n",
              "\n",
              "    .colab-df-convert:hover {\n",
              "      background-color: #E2EBFA;\n",
              "      box-shadow: 0px 1px 2px rgba(60, 64, 67, 0.3), 0px 1px 3px 1px rgba(60, 64, 67, 0.15);\n",
              "      fill: #174EA6;\n",
              "    }\n",
              "\n",
              "    .colab-df-buttons div {\n",
              "      margin-bottom: 4px;\n",
              "    }\n",
              "\n",
              "    [theme=dark] .colab-df-convert {\n",
              "      background-color: #3B4455;\n",
              "      fill: #D2E3FC;\n",
              "    }\n",
              "\n",
              "    [theme=dark] .colab-df-convert:hover {\n",
              "      background-color: #434B5C;\n",
              "      box-shadow: 0px 1px 3px 1px rgba(0, 0, 0, 0.15);\n",
              "      filter: drop-shadow(0px 1px 2px rgba(0, 0, 0, 0.3));\n",
              "      fill: #FFFFFF;\n",
              "    }\n",
              "  </style>\n",
              "\n",
              "    <script>\n",
              "      const buttonEl =\n",
              "        document.querySelector('#df-c4a7470b-deb6-4b11-96e2-e193aa26986c button.colab-df-convert');\n",
              "      buttonEl.style.display =\n",
              "        google.colab.kernel.accessAllowed ? 'block' : 'none';\n",
              "\n",
              "      async function convertToInteractive(key) {\n",
              "        const element = document.querySelector('#df-c4a7470b-deb6-4b11-96e2-e193aa26986c');\n",
              "        const dataTable =\n",
              "          await google.colab.kernel.invokeFunction('convertToInteractive',\n",
              "                                                    [key], {});\n",
              "        if (!dataTable) return;\n",
              "\n",
              "        const docLinkHtml = 'Like what you see? Visit the ' +\n",
              "          '<a target=\"_blank\" href=https://colab.research.google.com/notebooks/data_table.ipynb>data table notebook</a>'\n",
              "          + ' to learn more about interactive tables.';\n",
              "        element.innerHTML = '';\n",
              "        dataTable['output_type'] = 'display_data';\n",
              "        await google.colab.output.renderOutput(dataTable, element);\n",
              "        const docLink = document.createElement('div');\n",
              "        docLink.innerHTML = docLinkHtml;\n",
              "        element.appendChild(docLink);\n",
              "      }\n",
              "    </script>\n",
              "  </div>\n",
              "\n",
              "\n",
              "<div id=\"df-a6154837-a0b1-48a2-8445-a3aaf6f649ab\">\n",
              "  <button class=\"colab-df-quickchart\" onclick=\"quickchart('df-a6154837-a0b1-48a2-8445-a3aaf6f649ab')\"\n",
              "            title=\"Suggest charts\"\n",
              "            style=\"display:none;\">\n",
              "\n",
              "<svg xmlns=\"http://www.w3.org/2000/svg\" height=\"24px\"viewBox=\"0 0 24 24\"\n",
              "     width=\"24px\">\n",
              "    <g>\n",
              "        <path d=\"M19 3H5c-1.1 0-2 .9-2 2v14c0 1.1.9 2 2 2h14c1.1 0 2-.9 2-2V5c0-1.1-.9-2-2-2zM9 17H7v-7h2v7zm4 0h-2V7h2v10zm4 0h-2v-4h2v4z\"/>\n",
              "    </g>\n",
              "</svg>\n",
              "  </button>\n",
              "\n",
              "<style>\n",
              "  .colab-df-quickchart {\n",
              "      --bg-color: #E8F0FE;\n",
              "      --fill-color: #1967D2;\n",
              "      --hover-bg-color: #E2EBFA;\n",
              "      --hover-fill-color: #174EA6;\n",
              "      --disabled-fill-color: #AAA;\n",
              "      --disabled-bg-color: #DDD;\n",
              "  }\n",
              "\n",
              "  [theme=dark] .colab-df-quickchart {\n",
              "      --bg-color: #3B4455;\n",
              "      --fill-color: #D2E3FC;\n",
              "      --hover-bg-color: #434B5C;\n",
              "      --hover-fill-color: #FFFFFF;\n",
              "      --disabled-bg-color: #3B4455;\n",
              "      --disabled-fill-color: #666;\n",
              "  }\n",
              "\n",
              "  .colab-df-quickchart {\n",
              "    background-color: var(--bg-color);\n",
              "    border: none;\n",
              "    border-radius: 50%;\n",
              "    cursor: pointer;\n",
              "    display: none;\n",
              "    fill: var(--fill-color);\n",
              "    height: 32px;\n",
              "    padding: 0;\n",
              "    width: 32px;\n",
              "  }\n",
              "\n",
              "  .colab-df-quickchart:hover {\n",
              "    background-color: var(--hover-bg-color);\n",
              "    box-shadow: 0 1px 2px rgba(60, 64, 67, 0.3), 0 1px 3px 1px rgba(60, 64, 67, 0.15);\n",
              "    fill: var(--button-hover-fill-color);\n",
              "  }\n",
              "\n",
              "  .colab-df-quickchart-complete:disabled,\n",
              "  .colab-df-quickchart-complete:disabled:hover {\n",
              "    background-color: var(--disabled-bg-color);\n",
              "    fill: var(--disabled-fill-color);\n",
              "    box-shadow: none;\n",
              "  }\n",
              "\n",
              "  .colab-df-spinner {\n",
              "    border: 2px solid var(--fill-color);\n",
              "    border-color: transparent;\n",
              "    border-bottom-color: var(--fill-color);\n",
              "    animation:\n",
              "      spin 1s steps(1) infinite;\n",
              "  }\n",
              "\n",
              "  @keyframes spin {\n",
              "    0% {\n",
              "      border-color: transparent;\n",
              "      border-bottom-color: var(--fill-color);\n",
              "      border-left-color: var(--fill-color);\n",
              "    }\n",
              "    20% {\n",
              "      border-color: transparent;\n",
              "      border-left-color: var(--fill-color);\n",
              "      border-top-color: var(--fill-color);\n",
              "    }\n",
              "    30% {\n",
              "      border-color: transparent;\n",
              "      border-left-color: var(--fill-color);\n",
              "      border-top-color: var(--fill-color);\n",
              "      border-right-color: var(--fill-color);\n",
              "    }\n",
              "    40% {\n",
              "      border-color: transparent;\n",
              "      border-right-color: var(--fill-color);\n",
              "      border-top-color: var(--fill-color);\n",
              "    }\n",
              "    60% {\n",
              "      border-color: transparent;\n",
              "      border-right-color: var(--fill-color);\n",
              "    }\n",
              "    80% {\n",
              "      border-color: transparent;\n",
              "      border-right-color: var(--fill-color);\n",
              "      border-bottom-color: var(--fill-color);\n",
              "    }\n",
              "    90% {\n",
              "      border-color: transparent;\n",
              "      border-bottom-color: var(--fill-color);\n",
              "    }\n",
              "  }\n",
              "</style>\n",
              "\n",
              "  <script>\n",
              "    async function quickchart(key) {\n",
              "      const quickchartButtonEl =\n",
              "        document.querySelector('#' + key + ' button');\n",
              "      quickchartButtonEl.disabled = true;  // To prevent multiple clicks.\n",
              "      quickchartButtonEl.classList.add('colab-df-spinner');\n",
              "      try {\n",
              "        const charts = await google.colab.kernel.invokeFunction(\n",
              "            'suggestCharts', [key], {});\n",
              "      } catch (error) {\n",
              "        console.error('Error during call to suggestCharts:', error);\n",
              "      }\n",
              "      quickchartButtonEl.classList.remove('colab-df-spinner');\n",
              "      quickchartButtonEl.classList.add('colab-df-quickchart-complete');\n",
              "    }\n",
              "    (() => {\n",
              "      let quickchartButtonEl =\n",
              "        document.querySelector('#df-a6154837-a0b1-48a2-8445-a3aaf6f649ab button');\n",
              "      quickchartButtonEl.style.display =\n",
              "        google.colab.kernel.accessAllowed ? 'block' : 'none';\n",
              "    })();\n",
              "  </script>\n",
              "</div>\n",
              "\n",
              "  <div id=\"id_20157464-9a6e-4dec-8f54-48dbc1cf905d\">\n",
              "    <style>\n",
              "      .colab-df-generate {\n",
              "        background-color: #E8F0FE;\n",
              "        border: none;\n",
              "        border-radius: 50%;\n",
              "        cursor: pointer;\n",
              "        display: none;\n",
              "        fill: #1967D2;\n",
              "        height: 32px;\n",
              "        padding: 0 0 0 0;\n",
              "        width: 32px;\n",
              "      }\n",
              "\n",
              "      .colab-df-generate:hover {\n",
              "        background-color: #E2EBFA;\n",
              "        box-shadow: 0px 1px 2px rgba(60, 64, 67, 0.3), 0px 1px 3px 1px rgba(60, 64, 67, 0.15);\n",
              "        fill: #174EA6;\n",
              "      }\n",
              "\n",
              "      [theme=dark] .colab-df-generate {\n",
              "        background-color: #3B4455;\n",
              "        fill: #D2E3FC;\n",
              "      }\n",
              "\n",
              "      [theme=dark] .colab-df-generate:hover {\n",
              "        background-color: #434B5C;\n",
              "        box-shadow: 0px 1px 3px 1px rgba(0, 0, 0, 0.15);\n",
              "        filter: drop-shadow(0px 1px 2px rgba(0, 0, 0, 0.3));\n",
              "        fill: #FFFFFF;\n",
              "      }\n",
              "    </style>\n",
              "    <button class=\"colab-df-generate\" onclick=\"generateWithVariable('df')\"\n",
              "            title=\"Generate code using this dataframe.\"\n",
              "            style=\"display:none;\">\n",
              "\n",
              "  <svg xmlns=\"http://www.w3.org/2000/svg\" height=\"24px\"viewBox=\"0 0 24 24\"\n",
              "       width=\"24px\">\n",
              "    <path d=\"M7,19H8.4L18.45,9,17,7.55,7,17.6ZM5,21V16.75L18.45,3.32a2,2,0,0,1,2.83,0l1.4,1.43a1.91,1.91,0,0,1,.58,1.4,1.91,1.91,0,0,1-.58,1.4L9.25,21ZM18.45,9,17,7.55Zm-12,3A5.31,5.31,0,0,0,4.9,8.1,5.31,5.31,0,0,0,1,6.5,5.31,5.31,0,0,0,4.9,4.9,5.31,5.31,0,0,0,6.5,1,5.31,5.31,0,0,0,8.1,4.9,5.31,5.31,0,0,0,12,6.5,5.46,5.46,0,0,0,6.5,12Z\"/>\n",
              "  </svg>\n",
              "    </button>\n",
              "    <script>\n",
              "      (() => {\n",
              "      const buttonEl =\n",
              "        document.querySelector('#id_20157464-9a6e-4dec-8f54-48dbc1cf905d button.colab-df-generate');\n",
              "      buttonEl.style.display =\n",
              "        google.colab.kernel.accessAllowed ? 'block' : 'none';\n",
              "\n",
              "      buttonEl.onclick = () => {\n",
              "        google.colab.notebook.generateWithVariable('df');\n",
              "      }\n",
              "      })();\n",
              "    </script>\n",
              "  </div>\n",
              "\n",
              "    </div>\n",
              "  </div>\n"
            ],
            "application/vnd.google.colaboratory.intrinsic+json": {
              "type": "dataframe",
              "variable_name": "df",
              "summary": "{\n  \"name\": \"df\",\n  \"rows\": 10,\n  \"fields\": [\n    {\n      \"column\": \"col1\",\n      \"properties\": {\n        \"dtype\": \"number\",\n        \"std\": 26,\n        \"min\": 14,\n        \"max\": 87,\n        \"num_unique_values\": 10,\n        \"samples\": [\n          71,\n          84,\n          14\n        ],\n        \"semantic_type\": \"\",\n        \"description\": \"\"\n      }\n    },\n    {\n      \"column\": \"col2\",\n      \"properties\": {\n        \"dtype\": \"category\",\n        \"num_unique_values\": 3,\n        \"samples\": [\n          \"B\",\n          \"C\",\n          \"A\"\n        ],\n        \"semantic_type\": \"\",\n        \"description\": \"\"\n      }\n    }\n  ]\n}"
            }
          },
          "metadata": {},
          "execution_count": 43
        }
      ]
    },
    {
      "cell_type": "code",
      "source": [
        "import matplotlib.pyplot as plt\n",
        "\n",
        "plt.figure(figsize=(8, 6))\n",
        "plt.bar(df['col2'],df['col1'])\n",
        "plt.xlabel('col1')\n",
        "plt.ylabel('col2')\n",
        "plt.show()\n"
      ],
      "metadata": {
        "colab": {
          "base_uri": "https://localhost:8080/",
          "height": 542
        },
        "id": "ioiSvxUfyHrT",
        "outputId": "8720d729-ae0f-4edf-fdfc-42088b762f96"
      },
      "execution_count": null,
      "outputs": [
        {
          "output_type": "display_data",
          "data": {
            "text/plain": [
              "<Figure size 800x600 with 1 Axes>"
            ],
            "image/png": "[encoded data removed]"
          },
          "metadata": {}
        }
      ]
    }
  ]
}