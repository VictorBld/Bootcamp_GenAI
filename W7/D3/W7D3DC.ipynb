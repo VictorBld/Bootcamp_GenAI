{
  "nbformat": 4,
  "nbformat_minor": 0,
  "metadata": {
    "colab": {
      "provenance": []
    },
    "kernelspec": {
      "name": "python3",
      "display_name": "Python 3"
    },
    "language_info": {
      "name": "python"
    }
  },
  "cells": [
    {
      "cell_type": "code",
      "execution_count": 1,
      "metadata": {
        "colab": {
          "base_uri": "https://localhost:8080/"
        },
        "id": "vsGvFQ7TpQSF",
        "outputId": "ddfaa0d8-e252-443c-8bd4-97885906e159"
      },
      "outputs": [
        {
          "output_type": "stream",
          "name": "stdout",
          "text": [
            "\n",
            "[INFO] Appel reçu de caller_001 avec symptômes : Mon père ne respire plus, il est inconscient.\n",
            "[DISPATCH] Ambulance envoyée à Paris, France pour Urgence vitale\n",
            "[LOG] Cas enregistré dans le système.\n",
            "\n",
            "[INFO] Appel reçu de caller_002 avec symptômes : J'ai de la fièvre et un mal de gorge.\n",
            "[ESCALADE] Appel transféré à un opérateur humain : J'ai de la fièvre et un mal de gorge.\n",
            "[LOG] Cas enregistré dans le système.\n",
            "\n",
            "[INFO] Appel reçu de caller_003 avec symptômes : Mon enfant s'est coupé légèrement au doigt.\n",
            "[INFO] Cas modéré détecté. Instructions de premiers secours en cours d'envoi.\n",
            "[LOG] Cas enregistré dans le système.\n"
          ]
        }
      ],
      "source": [
        "import time\n",
        "import random\n",
        "\n",
        "# Simulations de modules\n",
        "class SymptomChecker:\n",
        "    def assess(self, symptoms):\n",
        "        # Retourne un niveau d'urgence sur une échelle de 1 (critique) à 5 (faible)\n",
        "        critical_keywords = [\"inconscient\", \"arrêt cardiaque\", \"pas de pouls\", \"ne respire plus\"]\n",
        "        for keyword in critical_keywords:\n",
        "            if keyword in symptoms.lower():\n",
        "                return {\"urgency\": 1, \"condition\": \"Urgence vitale\"}\n",
        "        return {\"urgency\": random.randint(2, 5), \"condition\": \"À surveiller\"}\n",
        "\n",
        "class GeolocationSystem:\n",
        "    def get_location(self, caller_id):\n",
        "        # Simulation d'une géolocalisation\n",
        "        return {\"lat\": 48.8566, \"lon\": 2.3522, \"address\": \"Paris, France\"}\n",
        "\n",
        "class AmbulanceDispatcher:\n",
        "    def dispatch(self, location, condition):\n",
        "        print(f\"[DISPATCH] Ambulance envoyée à {location['address']} pour {condition}\")\n",
        "        return True\n",
        "\n",
        "class HumanEscalation:\n",
        "    def escalate(self, call_data):\n",
        "        print(f\"[ESCALADE] Appel transféré à un opérateur humain : {call_data['symptoms']}\")\n",
        "        return True\n",
        "\n",
        "# Agent principal\n",
        "class EmergencyDispatchAgent:\n",
        "    def __init__(self):\n",
        "        self.symptom_checker = SymptomChecker()\n",
        "        self.geolocation = GeolocationSystem()\n",
        "        self.dispatcher = AmbulanceDispatcher()\n",
        "        self.escalation = HumanEscalation()\n",
        "        self.call_log = {}\n",
        "\n",
        "    def handle_call(self, caller_id, symptoms_text):\n",
        "        print(f\"\\n[INFO] Appel reçu de {caller_id} avec symptômes : {symptoms_text}\")\n",
        "\n",
        "        location = self.geolocation.get_location(caller_id)\n",
        "        triage = self.symptom_checker.assess(symptoms_text)\n",
        "\n",
        "        self.call_log[caller_id] = {\n",
        "            \"symptoms\": symptoms_text,\n",
        "            \"urgency\": triage[\"urgency\"],\n",
        "            \"condition\": triage[\"condition\"],\n",
        "            \"location\": location,\n",
        "            \"timestamp\": time.time()\n",
        "        }\n",
        "\n",
        "        if triage[\"urgency\"] == 1:\n",
        "            self.dispatcher.dispatch(location, triage[\"condition\"])\n",
        "        elif triage[\"urgency\"] <= 3:\n",
        "            print(\"[INFO] Cas modéré détecté. Instructions de premiers secours en cours d'envoi.\")\n",
        "        else:\n",
        "            self.escalation.escalate(self.call_log[caller_id])\n",
        "\n",
        "        print(\"[LOG] Cas enregistré dans le système.\")\n",
        "\n",
        "# === Exemple d'exécution ===\n",
        "agent = EmergencyDispatchAgent()\n",
        "\n",
        "# Exemple d'appels :\n",
        "agent.handle_call(\"caller_001\", \"Mon père ne respire plus, il est inconscient.\")\n",
        "agent.handle_call(\"caller_002\", \"J'ai de la fièvre et un mal de gorge.\")\n",
        "agent.handle_call(\"caller_003\", \"Mon enfant s'est coupé légèrement au doigt.\")"
      ]
    },
    {
      "cell_type": "markdown",
      "source": [
        "Best agent for this case is Hybrid because:\n",
        "It stores state (caller info, symptom history, dispatch logs)\n",
        "It plans based on symptom severity\n",
        "It reacts instantly to emergencies"
      ],
      "metadata": {
        "id": "BK_Cwj2mqfMY"
      }
    },
    {
      "cell_type": "code",
      "source": [],
      "metadata": {
        "id": "sSmxQMFOqhZ7"
      },
      "execution_count": null,
      "outputs": []
    }
  ]
}